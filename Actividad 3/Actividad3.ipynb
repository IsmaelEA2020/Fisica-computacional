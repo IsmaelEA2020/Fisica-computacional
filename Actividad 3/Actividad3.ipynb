{
  "nbformat": 4,
  "nbformat_minor": 0,
  "metadata": {
    "colab": {
      "name": "Actividad3",
      "provenance": []
    },
    "kernelspec": {
      "name": "python3",
      "display_name": "Python 3"
    }
  },
  "cells": [
    {
      "cell_type": "code",
      "metadata": {
        "colab": {
          "base_uri": "https://localhost:8080/"
        },
        "id": "LszSa_4dviBl",
        "outputId": "117372db-17d6-4652-f34a-ab6a38811c0a"
      },
      "source": [
        "#Importamos las bibliotecas a utilizar\r\n",
        "import pandas as pd \r\n",
        "import numpy as np\r\n",
        "\r\n",
        "url = 'https://raw.githubusercontent.com/IsmaelEA2020/Fisica-computacional/main/Actividad%203/Climatolog%C3%ADa.txt'\r\n",
        "# Definimos los nombres de las columnas\r\n",
        "# El archivo tiene códigos ASCII extendido (Español), encoding='cp1251' Windows (Europa Occidental)\r\n",
        "# El separador de datos es de uno o más espacios, sep='\\s+'\r\n",
        "# Se brincará los primeros 19 renglones y el último, afirmamos que no nay encabezado\r\n",
        "# Se procesan los datos utilizando Python, engine='python' \r\n",
        "my_cols = ['Fecha', 'Precip', 'Evap', 'Tmax', 'Tmin']\r\n",
        "df_dist = pd.read_csv(url, names=my_cols, encoding='cp1251', sep='\\s+', header=None, skiprows=19, skipfooter=1, engine='python')\r\n",
        "\r\n",
        "# Revisamos el encabezado y el final del dataframe\r\n",
        "print(df_dist.head(10))\r\n",
        "print(df_dist.tail(10))"
      ],
      "execution_count": 25,
      "outputs": [
        {
          "output_type": "stream",
          "text": [
            "        Fecha  Precip Evap  Tmax  Tmin\n",
            "0  01/01/2010     0.0  4.2  29.0  11.5\n",
            "1  02/01/2010     0.0  3.6  28.0  11.5\n",
            "2  03/01/2010     0.0  4.7  29.5  14.5\n",
            "3  04/01/2010     0.0  3.8  30.0  11.0\n",
            "4  05/01/2010     0.0  3.8  29.5  13.5\n",
            "5  06/01/2010     0.0  4.6  28.5  12.0\n",
            "6  07/01/2010     0.0  5.1  28.0  13.0\n",
            "7  08/01/2010     0.0    4  28.0  13.0\n",
            "8  09/01/2010     0.0  4.3  31.0  14.5\n",
            "9  10/01/2010     0.0  5.2  30.0  14.0\n",
            "           Fecha  Precip  Evap  Tmax  Tmin\n",
            "3426  22/05/2019     0.0   9.7  35.0  16.5\n",
            "3427  23/05/2019     0.0  10.6  35.5  16.5\n",
            "3428  24/05/2019     0.0   7.3  37.0  16.5\n",
            "3429  25/05/2019     0.0  10.2  36.0  17.0\n",
            "3430  26/05/2019     0.0   8.8  37.0  19.5\n",
            "3431  27/05/2019     0.0     9  35.5  19.5\n",
            "3432  28/05/2019     0.0   8.6  35.0  18.5\n",
            "3433  29/05/2019     0.0   8.8  34.5  18.0\n",
            "3434  30/05/2019     0.0   8.6  37.0  19.0\n",
            "3435  31/05/2019     0.0   8.9  37.5  21.0\n"
          ],
          "name": "stdout"
        }
      ]
    },
    {
      "cell_type": "code",
      "metadata": {
        "colab": {
          "base_uri": "https://localhost:8080/"
        },
        "id": "wkyFcQa1wSHy",
        "outputId": "2ceedd28-4596-4c89-bd46-4becf7c69a5b"
      },
      "source": [
        "# Investigamos su tamaño con la función shape (renglones, columnas)\r\n",
        "df_dist.shape"
      ],
      "execution_count": 3,
      "outputs": [
        {
          "output_type": "execute_result",
          "data": {
            "text/plain": [
              "(16499, 5)"
            ]
          },
          "metadata": {
            "tags": []
          },
          "execution_count": 3
        }
      ]
    },
    {
      "cell_type": "code",
      "metadata": {
        "colab": {
          "base_uri": "https://localhost:8080/"
        },
        "id": "jYXDrfbDwXxE",
        "outputId": "28b6c283-56f8-452d-e61b-8ea315399ca3"
      },
      "source": [
        "# Información del dataframe\r\n",
        "df_dist.info()"
      ],
      "execution_count": 4,
      "outputs": [
        {
          "output_type": "stream",
          "text": [
            "<class 'pandas.core.frame.DataFrame'>\n",
            "RangeIndex: 16499 entries, 0 to 16498\n",
            "Data columns (total 5 columns):\n",
            " #   Column  Non-Null Count  Dtype \n",
            "---  ------  --------------  ----- \n",
            " 0   Fecha   16499 non-null  object\n",
            " 1   Precip  16499 non-null  object\n",
            " 2   Evap    16499 non-null  object\n",
            " 3   Tmax    16499 non-null  object\n",
            " 4   Tmin    16499 non-null  object\n",
            "dtypes: object(5)\n",
            "memory usage: 644.6+ KB\n"
          ],
          "name": "stdout"
        }
      ]
    },
    {
      "cell_type": "code",
      "metadata": {
        "colab": {
          "base_uri": "https://localhost:8080/",
          "height": 204
        },
        "id": "tVOpZgNCwg0Z",
        "outputId": "5ea6366c-46d5-440e-cb7d-7ef3bc5e558f"
      },
      "source": [
        "# Hacemos una copia de trabajo y preservamos el dataframe original\r\n",
        "df_work0 = df_dist.copy()\r\n",
        "df_work0.head()"
      ],
      "execution_count": 5,
      "outputs": [
        {
          "output_type": "execute_result",
          "data": {
            "text/html": [
              "<div>\n",
              "<style scoped>\n",
              "    .dataframe tbody tr th:only-of-type {\n",
              "        vertical-align: middle;\n",
              "    }\n",
              "\n",
              "    .dataframe tbody tr th {\n",
              "        vertical-align: top;\n",
              "    }\n",
              "\n",
              "    .dataframe thead th {\n",
              "        text-align: right;\n",
              "    }\n",
              "</style>\n",
              "<table border=\"1\" class=\"dataframe\">\n",
              "  <thead>\n",
              "    <tr style=\"text-align: right;\">\n",
              "      <th></th>\n",
              "      <th>Fecha</th>\n",
              "      <th>Precip</th>\n",
              "      <th>Evap</th>\n",
              "      <th>Tmax</th>\n",
              "      <th>Tmin</th>\n",
              "    </tr>\n",
              "  </thead>\n",
              "  <tbody>\n",
              "    <tr>\n",
              "      <th>0</th>\n",
              "      <td>01/05/1969</td>\n",
              "      <td>0</td>\n",
              "      <td>9</td>\n",
              "      <td>30.5</td>\n",
              "      <td>8.5</td>\n",
              "    </tr>\n",
              "    <tr>\n",
              "      <th>1</th>\n",
              "      <td>02/05/1969</td>\n",
              "      <td>0</td>\n",
              "      <td>9.1</td>\n",
              "      <td>30.5</td>\n",
              "      <td>8.5</td>\n",
              "    </tr>\n",
              "    <tr>\n",
              "      <th>2</th>\n",
              "      <td>03/05/1969</td>\n",
              "      <td>0</td>\n",
              "      <td>9</td>\n",
              "      <td>30</td>\n",
              "      <td>9</td>\n",
              "    </tr>\n",
              "    <tr>\n",
              "      <th>3</th>\n",
              "      <td>04/05/1969</td>\n",
              "      <td>0</td>\n",
              "      <td>7.1</td>\n",
              "      <td>27.5</td>\n",
              "      <td>12</td>\n",
              "    </tr>\n",
              "    <tr>\n",
              "      <th>4</th>\n",
              "      <td>05/05/1969</td>\n",
              "      <td>5</td>\n",
              "      <td>4.3</td>\n",
              "      <td>28</td>\n",
              "      <td>7.5</td>\n",
              "    </tr>\n",
              "  </tbody>\n",
              "</table>\n",
              "</div>"
            ],
            "text/plain": [
              "        Fecha Precip Evap  Tmax Tmin\n",
              "0  01/05/1969      0    9  30.5  8.5\n",
              "1  02/05/1969      0  9.1  30.5  8.5\n",
              "2  03/05/1969      0    9    30    9\n",
              "3  04/05/1969      0  7.1  27.5   12\n",
              "4  05/05/1969      5  4.3    28  7.5"
            ]
          },
          "metadata": {
            "tags": []
          },
          "execution_count": 5
        }
      ]
    },
    {
      "cell_type": "code",
      "metadata": {
        "colab": {
          "base_uri": "https://localhost:8080/",
          "height": 204
        },
        "id": "IIKgqV2Pwl-W",
        "outputId": "0e1eadff-c414-4a39-fb79-8d6a03e8c7b1"
      },
      "source": [
        "df_work0 = df_dist.copy()\r\n",
        "df_work0.tail()"
      ],
      "execution_count": 6,
      "outputs": [
        {
          "output_type": "execute_result",
          "data": {
            "text/html": [
              "<div>\n",
              "<style scoped>\n",
              "    .dataframe tbody tr th:only-of-type {\n",
              "        vertical-align: middle;\n",
              "    }\n",
              "\n",
              "    .dataframe tbody tr th {\n",
              "        vertical-align: top;\n",
              "    }\n",
              "\n",
              "    .dataframe thead th {\n",
              "        text-align: right;\n",
              "    }\n",
              "</style>\n",
              "<table border=\"1\" class=\"dataframe\">\n",
              "  <thead>\n",
              "    <tr style=\"text-align: right;\">\n",
              "      <th></th>\n",
              "      <th>Fecha</th>\n",
              "      <th>Precip</th>\n",
              "      <th>Evap</th>\n",
              "      <th>Tmax</th>\n",
              "      <th>Tmin</th>\n",
              "    </tr>\n",
              "  </thead>\n",
              "  <tbody>\n",
              "    <tr>\n",
              "      <th>16494</th>\n",
              "      <td>26/04/2016</td>\n",
              "      <td>0</td>\n",
              "      <td>Nulo</td>\n",
              "      <td>29</td>\n",
              "      <td>8</td>\n",
              "    </tr>\n",
              "    <tr>\n",
              "      <th>16495</th>\n",
              "      <td>27/04/2016</td>\n",
              "      <td>0</td>\n",
              "      <td>Nulo</td>\n",
              "      <td>28</td>\n",
              "      <td>7</td>\n",
              "    </tr>\n",
              "    <tr>\n",
              "      <th>16496</th>\n",
              "      <td>28/04/2016</td>\n",
              "      <td>0</td>\n",
              "      <td>Nulo</td>\n",
              "      <td>27</td>\n",
              "      <td>7</td>\n",
              "    </tr>\n",
              "    <tr>\n",
              "      <th>16497</th>\n",
              "      <td>29/04/2016</td>\n",
              "      <td>0</td>\n",
              "      <td>Nulo</td>\n",
              "      <td>25</td>\n",
              "      <td>5</td>\n",
              "    </tr>\n",
              "    <tr>\n",
              "      <th>16498</th>\n",
              "      <td>30/04/2016</td>\n",
              "      <td>0</td>\n",
              "      <td>Nulo</td>\n",
              "      <td>26</td>\n",
              "      <td>7</td>\n",
              "    </tr>\n",
              "  </tbody>\n",
              "</table>\n",
              "</div>"
            ],
            "text/plain": [
              "            Fecha Precip  Evap Tmax Tmin\n",
              "16494  26/04/2016      0  Nulo   29    8\n",
              "16495  27/04/2016      0  Nulo   28    7\n",
              "16496  28/04/2016      0  Nulo   27    7\n",
              "16497  29/04/2016      0  Nulo   25    5\n",
              "16498  30/04/2016      0  Nulo   26    7"
            ]
          },
          "metadata": {
            "tags": []
          },
          "execution_count": 6
        }
      ]
    },
    {
      "cell_type": "code",
      "metadata": {
        "colab": {
          "base_uri": "https://localhost:8080/",
          "height": 204
        },
        "id": "49z5cCQUwp2F",
        "outputId": "5f15c9c3-b9aa-4462-f5e0-4772b09154d9"
      },
      "source": [
        "# Reemplazamos los textos 'Nulo' por espacio en blanco ''\r\n",
        "str_Nulo = 'Nulo'\r\n",
        "df_work1 = df_work0.replace(to_replace=str_Nulo, value='', regex=True)\r\n",
        "df_work1.head()"
      ],
      "execution_count": 7,
      "outputs": [
        {
          "output_type": "execute_result",
          "data": {
            "text/html": [
              "<div>\n",
              "<style scoped>\n",
              "    .dataframe tbody tr th:only-of-type {\n",
              "        vertical-align: middle;\n",
              "    }\n",
              "\n",
              "    .dataframe tbody tr th {\n",
              "        vertical-align: top;\n",
              "    }\n",
              "\n",
              "    .dataframe thead th {\n",
              "        text-align: right;\n",
              "    }\n",
              "</style>\n",
              "<table border=\"1\" class=\"dataframe\">\n",
              "  <thead>\n",
              "    <tr style=\"text-align: right;\">\n",
              "      <th></th>\n",
              "      <th>Fecha</th>\n",
              "      <th>Precip</th>\n",
              "      <th>Evap</th>\n",
              "      <th>Tmax</th>\n",
              "      <th>Tmin</th>\n",
              "    </tr>\n",
              "  </thead>\n",
              "  <tbody>\n",
              "    <tr>\n",
              "      <th>0</th>\n",
              "      <td>01/05/1969</td>\n",
              "      <td>0</td>\n",
              "      <td>9</td>\n",
              "      <td>30.5</td>\n",
              "      <td>8.5</td>\n",
              "    </tr>\n",
              "    <tr>\n",
              "      <th>1</th>\n",
              "      <td>02/05/1969</td>\n",
              "      <td>0</td>\n",
              "      <td>9.1</td>\n",
              "      <td>30.5</td>\n",
              "      <td>8.5</td>\n",
              "    </tr>\n",
              "    <tr>\n",
              "      <th>2</th>\n",
              "      <td>03/05/1969</td>\n",
              "      <td>0</td>\n",
              "      <td>9</td>\n",
              "      <td>30</td>\n",
              "      <td>9</td>\n",
              "    </tr>\n",
              "    <tr>\n",
              "      <th>3</th>\n",
              "      <td>04/05/1969</td>\n",
              "      <td>0</td>\n",
              "      <td>7.1</td>\n",
              "      <td>27.5</td>\n",
              "      <td>12</td>\n",
              "    </tr>\n",
              "    <tr>\n",
              "      <th>4</th>\n",
              "      <td>05/05/1969</td>\n",
              "      <td>5</td>\n",
              "      <td>4.3</td>\n",
              "      <td>28</td>\n",
              "      <td>7.5</td>\n",
              "    </tr>\n",
              "  </tbody>\n",
              "</table>\n",
              "</div>"
            ],
            "text/plain": [
              "        Fecha Precip Evap  Tmax Tmin\n",
              "0  01/05/1969      0    9  30.5  8.5\n",
              "1  02/05/1969      0  9.1  30.5  8.5\n",
              "2  03/05/1969      0    9    30    9\n",
              "3  04/05/1969      0  7.1  27.5   12\n",
              "4  05/05/1969      5  4.3    28  7.5"
            ]
          },
          "metadata": {
            "tags": []
          },
          "execution_count": 7
        }
      ]
    },
    {
      "cell_type": "code",
      "metadata": {
        "colab": {
          "base_uri": "https://localhost:8080/",
          "height": 204
        },
        "id": "9qBcaCJOwuJ-",
        "outputId": "5bb021f3-87c7-4baa-f937-92445e56ce61"
      },
      "source": [
        "str_Nulo = 'Nulo'\r\n",
        "df_work1 = df_work0.replace(to_replace=str_Nulo, value='', regex=True)\r\n",
        "df_work1.tail()"
      ],
      "execution_count": 8,
      "outputs": [
        {
          "output_type": "execute_result",
          "data": {
            "text/html": [
              "<div>\n",
              "<style scoped>\n",
              "    .dataframe tbody tr th:only-of-type {\n",
              "        vertical-align: middle;\n",
              "    }\n",
              "\n",
              "    .dataframe tbody tr th {\n",
              "        vertical-align: top;\n",
              "    }\n",
              "\n",
              "    .dataframe thead th {\n",
              "        text-align: right;\n",
              "    }\n",
              "</style>\n",
              "<table border=\"1\" class=\"dataframe\">\n",
              "  <thead>\n",
              "    <tr style=\"text-align: right;\">\n",
              "      <th></th>\n",
              "      <th>Fecha</th>\n",
              "      <th>Precip</th>\n",
              "      <th>Evap</th>\n",
              "      <th>Tmax</th>\n",
              "      <th>Tmin</th>\n",
              "    </tr>\n",
              "  </thead>\n",
              "  <tbody>\n",
              "    <tr>\n",
              "      <th>16494</th>\n",
              "      <td>26/04/2016</td>\n",
              "      <td>0</td>\n",
              "      <td></td>\n",
              "      <td>29</td>\n",
              "      <td>8</td>\n",
              "    </tr>\n",
              "    <tr>\n",
              "      <th>16495</th>\n",
              "      <td>27/04/2016</td>\n",
              "      <td>0</td>\n",
              "      <td></td>\n",
              "      <td>28</td>\n",
              "      <td>7</td>\n",
              "    </tr>\n",
              "    <tr>\n",
              "      <th>16496</th>\n",
              "      <td>28/04/2016</td>\n",
              "      <td>0</td>\n",
              "      <td></td>\n",
              "      <td>27</td>\n",
              "      <td>7</td>\n",
              "    </tr>\n",
              "    <tr>\n",
              "      <th>16497</th>\n",
              "      <td>29/04/2016</td>\n",
              "      <td>0</td>\n",
              "      <td></td>\n",
              "      <td>25</td>\n",
              "      <td>5</td>\n",
              "    </tr>\n",
              "    <tr>\n",
              "      <th>16498</th>\n",
              "      <td>30/04/2016</td>\n",
              "      <td>0</td>\n",
              "      <td></td>\n",
              "      <td>26</td>\n",
              "      <td>7</td>\n",
              "    </tr>\n",
              "  </tbody>\n",
              "</table>\n",
              "</div>"
            ],
            "text/plain": [
              "            Fecha Precip Evap Tmax Tmin\n",
              "16494  26/04/2016      0        29    8\n",
              "16495  27/04/2016      0        28    7\n",
              "16496  28/04/2016      0        27    7\n",
              "16497  29/04/2016      0        25    5\n",
              "16498  30/04/2016      0        26    7"
            ]
          },
          "metadata": {
            "tags": []
          },
          "execution_count": 8
        }
      ]
    },
    {
      "cell_type": "code",
      "metadata": {
        "colab": {
          "base_uri": "https://localhost:8080/"
        },
        "id": "Fpg_CWDkwzxQ",
        "outputId": "ffb93f65-13bb-4ba8-8014-441799c1919e"
      },
      "source": [
        "# Imprimimos la información actualizada del dataframe\r\n",
        "df_work1.info()\r\n",
        "print(df_work1.head())"
      ],
      "execution_count": 9,
      "outputs": [
        {
          "output_type": "stream",
          "text": [
            "<class 'pandas.core.frame.DataFrame'>\n",
            "RangeIndex: 16499 entries, 0 to 16498\n",
            "Data columns (total 5 columns):\n",
            " #   Column  Non-Null Count  Dtype \n",
            "---  ------  --------------  ----- \n",
            " 0   Fecha   16499 non-null  object\n",
            " 1   Precip  16499 non-null  object\n",
            " 2   Evap    16499 non-null  object\n",
            " 3   Tmax    16499 non-null  object\n",
            " 4   Tmin    16499 non-null  object\n",
            "dtypes: object(5)\n",
            "memory usage: 644.6+ KB\n",
            "        Fecha Precip Evap  Tmax Tmin\n",
            "0  01/05/1969      0    9  30.5  8.5\n",
            "1  02/05/1969      0  9.1  30.5  8.5\n",
            "2  03/05/1969      0    9    30    9\n",
            "3  04/05/1969      0  7.1  27.5   12\n",
            "4  05/05/1969      5  4.3    28  7.5\n"
          ],
          "name": "stdout"
        }
      ]
    },
    {
      "cell_type": "code",
      "metadata": {
        "colab": {
          "base_uri": "https://localhost:8080/"
        },
        "id": "nXaHYKVXw3Zg",
        "outputId": "5e9e71ce-90ca-41a6-e0a8-9a7c795808cf"
      },
      "source": [
        "df_work1.info()\r\n",
        "print(df_work1.tail())"
      ],
      "execution_count": 10,
      "outputs": [
        {
          "output_type": "stream",
          "text": [
            "<class 'pandas.core.frame.DataFrame'>\n",
            "RangeIndex: 16499 entries, 0 to 16498\n",
            "Data columns (total 5 columns):\n",
            " #   Column  Non-Null Count  Dtype \n",
            "---  ------  --------------  ----- \n",
            " 0   Fecha   16499 non-null  object\n",
            " 1   Precip  16499 non-null  object\n",
            " 2   Evap    16499 non-null  object\n",
            " 3   Tmax    16499 non-null  object\n",
            " 4   Tmin    16499 non-null  object\n",
            "dtypes: object(5)\n",
            "memory usage: 644.6+ KB\n",
            "            Fecha Precip Evap Tmax Tmin\n",
            "16494  26/04/2016      0        29    8\n",
            "16495  27/04/2016      0        28    7\n",
            "16496  28/04/2016      0        27    7\n",
            "16497  29/04/2016      0        25    5\n",
            "16498  30/04/2016      0        26    7\n"
          ],
          "name": "stdout"
        }
      ]
    },
    {
      "cell_type": "code",
      "metadata": {
        "colab": {
          "base_uri": "https://localhost:8080/"
        },
        "id": "ss6NJClzxKRs",
        "outputId": "19b92b59-7bde-4d3b-81d0-66f503e573fc"
      },
      "source": [
        "\r\n",
        "# Deseamos convertir los valores de las variables ambientales a núm. flotantes \r\n",
        "cols_list = ['Precip', 'Evap', 'Tmax', 'Tmin']\r\n",
        "for cols in cols_list:\r\n",
        "  df_work1[cols] = pd.to_numeric(df_work1[cols], errors='coerce')\r\n",
        "\r\n",
        "df_work1.info()"
      ],
      "execution_count": 11,
      "outputs": [
        {
          "output_type": "stream",
          "text": [
            "<class 'pandas.core.frame.DataFrame'>\n",
            "RangeIndex: 16499 entries, 0 to 16498\n",
            "Data columns (total 5 columns):\n",
            " #   Column  Non-Null Count  Dtype  \n",
            "---  ------  --------------  -----  \n",
            " 0   Fecha   16499 non-null  object \n",
            " 1   Precip  16498 non-null  float64\n",
            " 2   Evap    11586 non-null  float64\n",
            " 3   Tmax    16465 non-null  float64\n",
            " 4   Tmin    16467 non-null  float64\n",
            "dtypes: float64(4), object(1)\n",
            "memory usage: 644.6+ KB\n"
          ],
          "name": "stdout"
        }
      ]
    },
    {
      "cell_type": "code",
      "metadata": {
        "colab": {
          "base_uri": "https://localhost:8080/"
        },
        "id": "xKuYNVcTxOky",
        "outputId": "c851e684-6965-4a90-fe2f-8af65032c8a5"
      },
      "source": [
        "# De la instrucción anterior, vemos que hay valores faltantes. Sumamos los valores nulos. \r\n",
        "df_work1.isnull().sum()"
      ],
      "execution_count": 12,
      "outputs": [
        {
          "output_type": "execute_result",
          "data": {
            "text/plain": [
              "Fecha        0\n",
              "Precip       1\n",
              "Evap      4913\n",
              "Tmax        34\n",
              "Tmin        32\n",
              "dtype: int64"
            ]
          },
          "metadata": {
            "tags": []
          },
          "execution_count": 12
        }
      ]
    },
    {
      "cell_type": "code",
      "metadata": {
        "colab": {
          "base_uri": "https://localhost:8080/"
        },
        "id": "HCmDX3vnxQRC",
        "outputId": "4d5159e5-001b-4a27-eec3-dbe7c2e4a6a8"
      },
      "source": [
        "print(df_work1.head())\r\n",
        "print(df_work1.head())"
      ],
      "execution_count": 13,
      "outputs": [
        {
          "output_type": "stream",
          "text": [
            "        Fecha  Precip  Evap  Tmax  Tmin\n",
            "0  01/05/1969     0.0   9.0  30.5   8.5\n",
            "1  02/05/1969     0.0   9.1  30.5   8.5\n",
            "2  03/05/1969     0.0   9.0  30.0   9.0\n",
            "3  04/05/1969     0.0   7.1  27.5  12.0\n",
            "4  05/05/1969     5.0   4.3  28.0   7.5\n",
            "        Fecha  Precip  Evap  Tmax  Tmin\n",
            "0  01/05/1969     0.0   9.0  30.5   8.5\n",
            "1  02/05/1969     0.0   9.1  30.5   8.5\n",
            "2  03/05/1969     0.0   9.0  30.0   9.0\n",
            "3  04/05/1969     0.0   7.1  27.5  12.0\n",
            "4  05/05/1969     5.0   4.3  28.0   7.5\n"
          ],
          "name": "stdout"
        }
      ]
    },
    {
      "cell_type": "code",
      "metadata": {
        "colab": {
          "base_uri": "https://localhost:8080/"
        },
        "id": "BPcxNPiexWHT",
        "outputId": "86aa2800-a11d-46d6-ec88-5763204426ee"
      },
      "source": [
        "\r\n",
        "print(df_work1.tail())\r\n",
        "print(df_work1.tail())"
      ],
      "execution_count": 14,
      "outputs": [
        {
          "output_type": "stream",
          "text": [
            "            Fecha  Precip  Evap  Tmax  Tmin\n",
            "16494  26/04/2016     0.0   NaN  29.0   8.0\n",
            "16495  27/04/2016     0.0   NaN  28.0   7.0\n",
            "16496  28/04/2016     0.0   NaN  27.0   7.0\n",
            "16497  29/04/2016     0.0   NaN  25.0   5.0\n",
            "16498  30/04/2016     0.0   NaN  26.0   7.0\n",
            "            Fecha  Precip  Evap  Tmax  Tmin\n",
            "16494  26/04/2016     0.0   NaN  29.0   8.0\n",
            "16495  27/04/2016     0.0   NaN  28.0   7.0\n",
            "16496  28/04/2016     0.0   NaN  27.0   7.0\n",
            "16497  29/04/2016     0.0   NaN  25.0   5.0\n",
            "16498  30/04/2016     0.0   NaN  26.0   7.0\n"
          ],
          "name": "stdout"
        }
      ]
    },
    {
      "cell_type": "code",
      "metadata": {
        "colab": {
          "base_uri": "https://localhost:8080/",
          "height": 297
        },
        "id": "LISUiJOtxalv",
        "outputId": "37d5ff3d-ebba-4b96-8f50-f5d9f9ca626b"
      },
      "source": [
        "# Un análisis estadístico breve de las variables numéricas redondeado a 2 cifras significativas\r\n",
        "df_work1.describe().round(2)"
      ],
      "execution_count": 15,
      "outputs": [
        {
          "output_type": "execute_result",
          "data": {
            "text/html": [
              "<div>\n",
              "<style scoped>\n",
              "    .dataframe tbody tr th:only-of-type {\n",
              "        vertical-align: middle;\n",
              "    }\n",
              "\n",
              "    .dataframe tbody tr th {\n",
              "        vertical-align: top;\n",
              "    }\n",
              "\n",
              "    .dataframe thead th {\n",
              "        text-align: right;\n",
              "    }\n",
              "</style>\n",
              "<table border=\"1\" class=\"dataframe\">\n",
              "  <thead>\n",
              "    <tr style=\"text-align: right;\">\n",
              "      <th></th>\n",
              "      <th>Precip</th>\n",
              "      <th>Evap</th>\n",
              "      <th>Tmax</th>\n",
              "      <th>Tmin</th>\n",
              "    </tr>\n",
              "  </thead>\n",
              "  <tbody>\n",
              "    <tr>\n",
              "      <th>count</th>\n",
              "      <td>16498.00</td>\n",
              "      <td>11586.00</td>\n",
              "      <td>16465.00</td>\n",
              "      <td>16467.00</td>\n",
              "    </tr>\n",
              "    <tr>\n",
              "      <th>mean</th>\n",
              "      <td>1.23</td>\n",
              "      <td>6.03</td>\n",
              "      <td>28.62</td>\n",
              "      <td>9.88</td>\n",
              "    </tr>\n",
              "    <tr>\n",
              "      <th>std</th>\n",
              "      <td>5.46</td>\n",
              "      <td>3.20</td>\n",
              "      <td>7.25</td>\n",
              "      <td>7.17</td>\n",
              "    </tr>\n",
              "    <tr>\n",
              "      <th>min</th>\n",
              "      <td>0.00</td>\n",
              "      <td>0.10</td>\n",
              "      <td>1.50</td>\n",
              "      <td>-10.50</td>\n",
              "    </tr>\n",
              "    <tr>\n",
              "      <th>25%</th>\n",
              "      <td>0.00</td>\n",
              "      <td>3.50</td>\n",
              "      <td>23.50</td>\n",
              "      <td>4.00</td>\n",
              "    </tr>\n",
              "    <tr>\n",
              "      <th>50%</th>\n",
              "      <td>0.00</td>\n",
              "      <td>5.70</td>\n",
              "      <td>29.50</td>\n",
              "      <td>8.50</td>\n",
              "    </tr>\n",
              "    <tr>\n",
              "      <th>75%</th>\n",
              "      <td>0.00</td>\n",
              "      <td>8.20</td>\n",
              "      <td>34.50</td>\n",
              "      <td>16.50</td>\n",
              "    </tr>\n",
              "    <tr>\n",
              "      <th>max</th>\n",
              "      <td>160.00</td>\n",
              "      <td>17.00</td>\n",
              "      <td>46.00</td>\n",
              "      <td>26.00</td>\n",
              "    </tr>\n",
              "  </tbody>\n",
              "</table>\n",
              "</div>"
            ],
            "text/plain": [
              "         Precip      Evap      Tmax      Tmin\n",
              "count  16498.00  11586.00  16465.00  16467.00\n",
              "mean       1.23      6.03     28.62      9.88\n",
              "std        5.46      3.20      7.25      7.17\n",
              "min        0.00      0.10      1.50    -10.50\n",
              "25%        0.00      3.50     23.50      4.00\n",
              "50%        0.00      5.70     29.50      8.50\n",
              "75%        0.00      8.20     34.50     16.50\n",
              "max      160.00     17.00     46.00     26.00"
            ]
          },
          "metadata": {
            "tags": []
          },
          "execution_count": 15
        }
      ]
    },
    {
      "cell_type": "code",
      "metadata": {
        "colab": {
          "base_uri": "https://localhost:8080/"
        },
        "id": "U961-q5txhxW",
        "outputId": "bf37d23d-c751-4314-8643-86bf7a27ba64"
      },
      "source": [
        "# Volvemos a hacer una pausa y definimos un nuevo dataframe por si hay que regresarse.\r\n",
        "df_work2 = df_work1.copy()\r\n",
        "df_work2['Fecha'].head()"
      ],
      "execution_count": 16,
      "outputs": [
        {
          "output_type": "execute_result",
          "data": {
            "text/plain": [
              "0    01/05/1969\n",
              "1    02/05/1969\n",
              "2    03/05/1969\n",
              "3    04/05/1969\n",
              "4    05/05/1969\n",
              "Name: Fecha, dtype: object"
            ]
          },
          "metadata": {
            "tags": []
          },
          "execution_count": 16
        }
      ]
    },
    {
      "cell_type": "code",
      "metadata": {
        "colab": {
          "base_uri": "https://localhost:8080/"
        },
        "id": "pVM2NWl1xlfb",
        "outputId": "27822dbf-ac5b-4502-8735-170db0f8f426"
      },
      "source": [
        "\r\n",
        "# Pandas tiene la función pd.to_datetime que convierte una cadena en tipo datetime64[ns]\r\n",
        "# Intentamos a ver si Python reconoce el formato en nuestro caso. \r\n",
        "# Agregamos la opción de que el primer dato es el día (dayfirst=True)\r\n",
        "df_work2['Fecha']=pd.to_datetime(df_work2['Fecha'], dayfirst=True).copy()\r\n",
        "print(df_work1.head())"
      ],
      "execution_count": 17,
      "outputs": [
        {
          "output_type": "stream",
          "text": [
            "        Fecha  Precip  Evap  Tmax  Tmin\n",
            "0  01/05/1969     0.0   9.0  30.5   8.5\n",
            "1  02/05/1969     0.0   9.1  30.5   8.5\n",
            "2  03/05/1969     0.0   9.0  30.0   9.0\n",
            "3  04/05/1969     0.0   7.1  27.5  12.0\n",
            "4  05/05/1969     5.0   4.3  28.0   7.5\n"
          ],
          "name": "stdout"
        }
      ]
    },
    {
      "cell_type": "code",
      "metadata": {
        "colab": {
          "base_uri": "https://localhost:8080/"
        },
        "id": "c_sw6NhUxpy6",
        "outputId": "74877d3b-0239-49a0-c518-c0a3bdbd84f0"
      },
      "source": [
        "# Verificamos que cada variable (columna), sea del tipo que esperamos.\r\n",
        "# Observamos que la variable Fecha es de tipo 'datetime64[ns]'  \r\n",
        "df_work2.dtypes"
      ],
      "execution_count": 18,
      "outputs": [
        {
          "output_type": "execute_result",
          "data": {
            "text/plain": [
              "Fecha     datetime64[ns]\n",
              "Precip           float64\n",
              "Evap             float64\n",
              "Tmax             float64\n",
              "Tmin             float64\n",
              "dtype: object"
            ]
          },
          "metadata": {
            "tags": []
          },
          "execution_count": 18
        }
      ]
    },
    {
      "cell_type": "code",
      "metadata": {
        "id": "jIAKROOyxsE2"
      },
      "source": [
        "\r\n",
        "# Buscamos ahora añadir dos columnas adicionales: df['Año'], df['Mes']\r\n",
        "# Usaremos la función .dt.year y .dt.month para extraer el Año y Mes de la Fecha\r\n",
        "df_work2['Año'] = df_work2['Fecha'].dt.year\r\n",
        "df_work2['Mes'] = df_work2['Fecha'].dt.month"
      ],
      "execution_count": 19,
      "outputs": []
    }
  ]
}