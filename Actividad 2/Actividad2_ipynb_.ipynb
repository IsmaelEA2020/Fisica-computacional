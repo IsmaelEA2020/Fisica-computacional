{
  "nbformat": 4,
  "nbformat_minor": 0,
  "metadata": {
    "colab": {
      "name": "Actividad2.ipynb.",
      "provenance": []
    },
    "kernelspec": {
      "name": "python3",
      "display_name": "Python 3"
    }
  },
  "cells": [
    {
      "cell_type": "markdown",
      "metadata": {
        "id": "DXe6cCIdmd6Y"
      },
      "source": [
        "Ejercicio#1"
      ]
    },
    {
      "cell_type": "code",
      "metadata": {
        "id": "DqiFOHisJxYp"
      },
      "source": [
        "#Programa para calcular el área del círculo.\r\n",
        "\r\n",
        "# Se define una función de una sola variable para calcular el área del círculo. \r\n",
        "#Importamos la bibiloteca NumPy para utilizar el número π.\r\n",
        "import numpy as np\r\n",
        "def area(r):\r\n",
        "    return (np.pi)*r**2\r\n",
        "# Le pedimos al usuario sus datos\r\n",
        "print(\"Proporciona el radio de su círculo\", end=\"\")\r\n",
        "l = float(input())\r\n",
        "a = area(l)\r\n",
        "# Imprime el valor del área del círculo en formato libre.\r\n",
        "print(\"\\nArea = \", a)"
      ],
      "execution_count": null,
      "outputs": []
    },
    {
      "cell_type": "code",
      "metadata": {
        "id": "W7y75HxvYdxn"
      },
      "source": [
        "#Programa para calcular el área de la elipse.\r\n",
        "# Se define una función de 2 variables para calcular el área de la elipse.  \r\n",
        "#Importamos la bibiloteca NumPy para utilizar el número π.\r\n",
        "import numpy as np\r\n",
        "def area(a, b):\r\n",
        "    return (np.pi)*a*b\r\n",
        "# Le pedimos al usuario sus datos\r\n",
        "print(\"Proporciona las longitudes de su semi eje mayor \", end=\"\")\r\n",
        "l = float(input())\r\n",
        "print(\"Proporciona las longitudes de su semi eje menor \", end=\"\")\r\n",
        "w = float(input())\r\n",
        "a = area(l, w)\r\n",
        "# Imprime el valor del área en formato libre.\r\n",
        "print(\"\\nArea = \", a)"
      ],
      "execution_count": null,
      "outputs": []
    },
    {
      "cell_type": "code",
      "metadata": {
        "id": "GSnnwMgXaiRj"
      },
      "source": [
        "#Programa para calcular el volumen de una esfera.\r\n",
        "\r\n",
        "# Se define una función de una sola variable para calcular el volumen de la esfera. \r\n",
        "#Importamos la bibiloteca NumPy para utilizar el número π.\r\n",
        "import numpy as np\r\n",
        "def area(r):\r\n",
        "    return (4/3)*(np.pi)*r**3\r\n",
        "# Le pedimos al usuario sus datos\r\n",
        "print(\"Proporciona el radio de su esfera\", end=\"\")\r\n",
        "l = float(input())\r\n",
        "a = area(l)\r\n",
        "# Imprime el valor del volumen de la esfera en formato libre.\r\n",
        "print(\"\\nVolumen = \", a)"
      ],
      "execution_count": null,
      "outputs": []
    },
    {
      "cell_type": "code",
      "metadata": {
        "id": "bXCWSRQEcNVD"
      },
      "source": [
        "#Programa para calcular el volumen de un cilindro.\r\n",
        "\r\n",
        "# Se define una función de 2 variables para calcular el volumen del cilindro.  \r\n",
        "#Importamos la bibiloteca NumPy para utilizar el número π.\r\n",
        "import numpy as np\r\n",
        "def area(r, h):\r\n",
        "    return h*(np.pi)*r**2\r\n",
        "# Le pedimos al usuario sus datos\r\n",
        "print(\"Proporciona la ongitud del radio de su cilindro \", end=\"\")\r\n",
        "l = float(input())\r\n",
        "print(\"Proporciona la longitud de la altura de su cilindro \", end=\"\")\r\n",
        "w = float(input())\r\n",
        "a = area(l, w)\r\n",
        "# Imprime el valor del volumen en formato libre.\r\n",
        "print(\"\\nVolumen = \", a)"
      ],
      "execution_count": null,
      "outputs": []
    },
    {
      "cell_type": "markdown",
      "metadata": {
        "id": "9-XZpFGMmpek"
      },
      "source": [
        "Ejercicio #2"
      ]
    },
    {
      "cell_type": "code",
      "metadata": {
        "id": "b0VFokaumtcx"
      },
      "source": [
        "#Programa para resolver una ecuacion de segundo grado de la forma ax^2 + bx + c = 0\r\n",
        "\r\n",
        "#Saludamos al usuario e informamos la funciionalidad del script\r\n",
        "print(\"Hola usuario, este programa resuelve ecuaciones de segundo grado de la forma ax^2 + bx + c = 0\")\r\n",
        "\r\n",
        "#Importamos math para los calculos\r\n",
        "import math\r\n",
        "print(\"A continuacion, introduzca los valores de su ecuacion\")\r\n",
        "a=int(input(\"Introduce el valor de a: \"))\r\n",
        "b=int(input(\"Introduce el valor de b: \"))\r\n",
        "c=int(input(\"Introduce el valor de c: \"))\r\n",
        "\r\n",
        "#Procedemos a calcular el discriminante\r\n",
        "d=(b*b)-4*a*c\r\n",
        "\r\n",
        "#Integramos un condicional\r\n",
        "\r\n",
        "if d<0:\r\n",
        "  print(\"No existen soluciones reales\")\r\n",
        "else:\r\n",
        "  x1=(-b+math.sqrt(d))/(2*a)\r\n",
        "  x2=(-b-math.sqrt(d))/(2*a)\r\n",
        "\r\n",
        "#Imprimimos las soluciones\r\n",
        "  print(\"-----Soluciones-----\")\r\n",
        "  print(\"Solucion x1\", x1)\r\n",
        "  print(\"Solucion x2\", x2)\r\n",
        "\r\n"
      ],
      "execution_count": null,
      "outputs": []
    },
    {
      "cell_type": "markdown",
      "metadata": {
        "id": "7jspoOJ4hwPQ"
      },
      "source": [
        "Actividad #3\r\n"
      ]
    },
    {
      "cell_type": "code",
      "metadata": {
        "id": "4RK-z2kZh05l"
      },
      "source": [
        "#Este programa calcula la raiz cuadrada de un numero\r\n",
        "\r\n",
        "#importa la libreria math para mejores calculos\r\n",
        "\r\n",
        "import math\r\n",
        "\r\n",
        "#Ingresamos nuestro numero para sacar raiz\r\n",
        "\r\n",
        "print(\"A continuacion ingresara el de su numero\")\r\n",
        "a=int(input(\"Introduce su valor n: \"))\r\n",
        "\r\n",
        "print(math.sqrt(a))\r\n",
        "\r\n",
        "def raiz_babilonica(n):\r\n",
        "\r\n",
        "  x = n / 2\r\n",
        "\r\n",
        "#Utilizamos nuestros condicionales \r\n",
        "  while true:\r\n",
        "     if x*x == n:\r\n",
        "        return x\r\n",
        "     else:\r\n",
        "        copia_x = x\r\n",
        "        x = (x + (n/x)) / 2\r\n",
        "     if copia_x == x:\r\n",
        "        break\r\n",
        "  return x\r\n",
        "\r\n"
      ],
      "execution_count": null,
      "outputs": []
    },
    {
      "cell_type": "markdown",
      "metadata": {
        "id": "Jplb0E4Gql5D"
      },
      "source": [
        "Actividad 4"
      ]
    },
    {
      "cell_type": "code",
      "metadata": {
        "id": "f-09pKrNqs_p"
      },
      "source": [
        "#Este programa recrea la figura de series de taylor de ln(x+1)\r\n",
        "\r\n",
        "#Cargamos la biblioteca math y matplot\r\n",
        "\r\n",
        "import matplotlib.pyplot as plt\r\n",
        "import math\r\n",
        "\r\n",
        "#Definimos nuestras variables y funciones\r\n",
        "\r\n",
        "x = np.linspace (-1.5,1.5,100)\r\n",
        "\r\n",
        "y = np.log (x+1)\r\n",
        "\r\n",
        "y1 = x\r\n",
        "y2 = x**2/(2)\r\n",
        "y3 = x**3/(3)\r\n",
        "y4 = x**4/(4)\r\n",
        "y5 = x**5/(5)\r\n",
        "y6 = x**6/(6)\r\n",
        "y7 = x**7/(7)\r\n",
        "y8 = x**8/(8)\r\n",
        "y9 = x**9/(9)\r\n",
        "y10 = x*10/(10)\r\n",
        "y11 = x**11/(11)\r\n",
        "y12 = x**12/(12)\r\n",
        "y13 = x**13/(13)\r\n",
        "y14 = x**14/(14)\r\n",
        "y15 = x**15/(15)\r\n",
        "y16 = x**16/(16)\r\n",
        "\r\n",
        "sT = y1 - y2 + y3 - y4\r\n",
        "\r\n",
        "sT1 = y1 - y2 + y3 - y4 + y5 - y6 + y7 \r\n",
        "\r\n",
        "sT2 = x - x**2 / 2 + x**3 / 3 - x**4 / 4 + x**5 / 5 - x**6 / 6 + x**7 / 7 + x**8 / 8 - x**9 / 9 + x**10 / 10 - x**11 / 11\r\n",
        "\r\n",
        "sT3 = x - x**2 / 2 + x**3 / 3 - x**4 / 4 + x**5 / 5 - x**6 / 6 + x**7 / 7 + x**8 / 8 - x**9 / 9 + x**10 / 10 - x**11 / 11 + x**12 / 12 + x**13 / 13 - x**14 / 14 + x**15 / 15 - x**16 / 16\r\n",
        "\r\n",
        "#Creamos las graficas\r\n",
        "\r\n",
        "plt.subplot(111)\r\n",
        "plt.xlabel(\"Eje x\")\r\n",
        "plt.ylabel(\"Eje y\")\r\n",
        "plt.title(\"Grafica de series de taylor\")\r\n",
        "\r\n",
        "#Graficamos varias funciones\r\n",
        "\r\n",
        "plt.plot(x,y, label=\"ln(x+1)\")\r\n",
        "plt.plot(x,sT, label=\"Serie de Taylor de orden 4\")\r\n",
        "plt.plot(x,sT1, label=\"Serie de Taylor de orden 7\")\r\n",
        "plt.plot(x,sT2, label=\"Serie de Taylor de orden 11\")\r\n",
        "plt.plot(x,sT3, label=\"Serie de Taylor de orden 16\")\r\n",
        "\r\n",
        "#Agregamos una malla\r\n",
        "\r\n",
        "plt.grid(True)\r\n",
        "\r\n",
        "#Fijamos nuestros limites en el eje Y\r\n",
        "\r\n",
        "plt.ylim(-4,2)\r\n",
        "\r\n",
        "# Ubicacion de las etiquetas de las funciones\r\n",
        "\r\n",
        "plt.legend(bbox_to_anchor=(1,1), loc=\"upper left\")\r\n",
        "\r\n",
        "plt.show()"
      ],
      "execution_count": null,
      "outputs": []
    }
  ]
}