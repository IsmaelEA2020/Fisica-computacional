{
  "nbformat": 4,
  "nbformat_minor": 0,
  "metadata": {
    "colab": {
      "name": "Actividad7",
      "provenance": []
    },
    "kernelspec": {
      "name": "python3",
      "display_name": "Python 3"
    }
  },
  "cells": [
    {
      "cell_type": "code",
      "metadata": {
        "id": "cvXAwpDvDARB"
      },
      "source": [
        "#ESPINOZA ARIAS ISMAEL ACTIVIDAD 7 Álgebra Lineal con Python\r\n",
        "# 3 de marzo de 2021\r\n",
        "# Cargamos las bibliotecas para trabajar en Algebra Lineal\r\n",
        "\r\n",
        "import numpy as np\r\n",
        "import scipy.linalg as la\r\n",
        "from numpy.linalg import matrix_power as mpow\r\n",
        "\r\n",
        "import matplotlib.pyplot as plt\r\n",
        "%matplotlib inline"
      ],
      "execution_count": 131,
      "outputs": []
    },
    {
      "cell_type": "markdown",
      "metadata": {
        "id": "tMc7HIUHYFZv"
      },
      "source": [
        "# Ejercicio 1. Defina las siguientes matrices.\r\n",
        "\r\n",
        "\r\n",
        "\r\n"
      ]
    },
    {
      "cell_type": "markdown",
      "metadata": {
        "id": "OY_0kWhH3AYt"
      },
      "source": [
        "**Definimos nuestras matrices**\r\n",
        "Para ello definiremos la matriz A como:\r\n",
        "\\begin{equation}\r\n",
        "A =\r\n",
        "\\begin{bmatrix}\r\n",
        "   1 & 3 \\\\\r\n",
        "   -1 & 7\r\n",
        "   \\end{bmatrix}\r\n",
        "\r\n",
        "\\end{equation}"
      ]
    },
    {
      "cell_type": "code",
      "metadata": {
        "colab": {
          "base_uri": "https://localhost:8080/"
        },
        "id": "WZqrhcCRTEeD",
        "outputId": "2e658b3f-9fc8-4a4b-a684-c3d4f43dee0d"
      },
      "source": [
        "#Definimos nuestra amtriz A:\r\n",
        "A = np.array([[1,3],[-1,7]])\r\n",
        "print(\"Matriz A = \")\r\n",
        "print(A)"
      ],
      "execution_count": null,
      "outputs": [
        {
          "output_type": "stream",
          "text": [
            "Matriz A = \n",
            "[[ 1  3]\n",
            " [-1  7]]\n"
          ],
          "name": "stdout"
        }
      ]
    },
    {
      "cell_type": "markdown",
      "metadata": {
        "id": "pLbh7PmL3JE-"
      },
      "source": [
        "Para ello definiremos la matriz B como:\r\n",
        "\\begin{equation}\r\n",
        "B =\r\n",
        "\\begin{bmatrix}\r\n",
        "   5 & 2 \\\\\r\n",
        "   1 & 2\r\n",
        "   \\end{bmatrix}\r\n",
        "\r\n",
        "\\end{equation}"
      ]
    },
    {
      "cell_type": "code",
      "metadata": {
        "colab": {
          "base_uri": "https://localhost:8080/"
        },
        "id": "jzAOh9X_WgUf",
        "outputId": "5f075f31-6715-4fa9-d25d-c3c7537fb3fc"
      },
      "source": [
        "#Definimos nuestra amtriz B:\r\n",
        "B = np.array([[5,2],[1,2]])\r\n",
        "print(\"Matriz B = \")\r\n",
        "print(B)"
      ],
      "execution_count": null,
      "outputs": [
        {
          "output_type": "stream",
          "text": [
            "Matriz B = \n",
            "[[5 2]\n",
            " [1 2]]\n"
          ],
          "name": "stdout"
        }
      ]
    },
    {
      "cell_type": "markdown",
      "metadata": {
        "id": "whGpM9wS3R0o"
      },
      "source": [
        "Para ello definiremos la matriz I como:\r\n",
        "\\begin{equation}\r\n",
        "I =\r\n",
        "\\begin{bmatrix}\r\n",
        "   1 & 0 \\\\\r\n",
        "   0 & 1\r\n",
        "   \\end{bmatrix}\r\n",
        "\r\n",
        "\\end{equation}"
      ]
    },
    {
      "cell_type": "code",
      "metadata": {
        "colab": {
          "base_uri": "https://localhost:8080/"
        },
        "id": "F5JssNgfX3q3",
        "outputId": "dd3f3b8f-ae7a-4bfa-de94-1862315913aa"
      },
      "source": [
        "#Definimos la matriz identidad I:\r\n",
        "I = np.eye(2, dtype=int)\r\n",
        "print(\"Matriz I = \")\r\n",
        "print(I)"
      ],
      "execution_count": 28,
      "outputs": [
        {
          "output_type": "stream",
          "text": [
            "Matriz I = \n",
            "[[1 0]\n",
            " [0 1]]\n"
          ],
          "name": "stdout"
        }
      ]
    },
    {
      "cell_type": "markdown",
      "metadata": {
        "id": "pLX26yHzbUem"
      },
      "source": [
        "Realizamos el producto correspondiente 2*I+3*A+A@B\r\n"
      ]
    },
    {
      "cell_type": "code",
      "metadata": {
        "colab": {
          "base_uri": "https://localhost:8080/"
        },
        "id": "UMQAt0tTb2Xo",
        "outputId": "9a10d24d-952a-425d-9805-31cbaea44843"
      },
      "source": [
        "R = 2*I + 3*A + A@B\r\n",
        "print(R)"
      ],
      "execution_count": null,
      "outputs": [
        {
          "output_type": "stream",
          "text": [
            "[[13 17]\n",
            " [-1 35]]\n"
          ],
          "name": "stdout"
        }
      ]
    },
    {
      "cell_type": "markdown",
      "metadata": {
        "id": "GxH0MxTXibnt"
      },
      "source": [
        "# Ejercicio 2. Los polinomios característicos y el Teorema de Cayley-Hamilton."
      ]
    },
    {
      "cell_type": "markdown",
      "metadata": {
        "id": "x02A6r4ZguQr"
      },
      "source": [
        "El polinomio característico de una matriz M esta dado en general por la ecuación$$\r\n",
        "\\det(M - \\lambda I) = 0\r\n",
        "$$Para una matriz cuadrada M (2x2), el polinomio característico se puede escribir como$$\r\n",
        "P_2 (\\lambda) = \\det{(M)} - \\mathrm{tr}(M) \\, \\lambda + \\lambda^2   \r\n",
        "$$y para una matriz cuadrada M (3x3), el polinomio característico resulta ser\r\n",
        "\r\n",
        "$$\r\n",
        "P_3 (\\lambda) = \\frac{1}{6} \r\n",
        "[ \\mathrm{tr}^3 (M) + 2 \\, \\mathrm{tr }(M^3) - 3 \\, \\mathrm{tr}(M) \\mathrm{tr}(M^2) ] - \r\n",
        "\\frac{1}{2} [ \\mathrm{tr}^2 (M) - \\mathrm{tr}(M^2) ] \\lambda + \\mathrm{tr}(M) \\lambda^2 - \\lambda^3\r\n",
        "$$\r\n",
        "El Teorema de Cayley-Hamilton nos dice que una matriz cuadrada M (2x2), satisface el polinomio característico$$\r\n",
        "P_2(M) = \\det(M) - \\mathrm{tr}(M) M + M^2 \r\n",
        "$$y en general cualquier matriz cuadrada M (nxn), satisface $P_n(M)$.\r\n",
        "\r\n",
        "Demuestre esto para cualquier matriz M (2x2), ($\\det(M) \\neq 0$)."
      ]
    },
    {
      "cell_type": "markdown",
      "metadata": {
        "id": "3JnbYEAosCpw"
      },
      "source": [
        "Para demostrar el teorema de Caley-Hamilton, que toda matriz satisface su ecuación característica:\r\n",
        "$$M, \\det(M - \\lambda I) = 0 $$\r\n",
        "\r\n",
        "Definimos nuestra matriz M:\r\n",
        "\r\n",
        "\\begin{equation*}\r\n",
        "  M\r\n",
        " =\r\n",
        "  \\begin{bmatrix}\r\n",
        "   a & b \\\\\r\n",
        "   c & d\r\n",
        "   \\end{bmatrix},\\\r\n",
        "\r\n",
        "\\det(M - \\lambda I) = 0\\\\\r\n",
        "\r\n",
        "  \\det\\begin{bmatrix}\r\n",
        "   a & b \\\\\r\n",
        "   c & d\r\n",
        "   \\end{bmatrix}\r\n",
        "   - \\lambda\\begin{bmatrix}\r\n",
        "   1 & 0 \\\\\r\n",
        "   0 & 1\r\n",
        "   \\end{bmatrix} = 0\\\\\r\n",
        "\r\n",
        "\\det\\begin{bmatrix}\r\n",
        "   a-\\lambda & b \\\\\r\n",
        "   c & d-\\lambda\r\n",
        "   \\end{bmatrix} = \r\n",
        "   (a-\\lambda)(d-\\lambda)-(c)(b)=0\\\\\r\n",
        "\r\n",
        "   \\lambda^{2}-\\lambda(a+d)+(ad-cb)I=0\\\\\r\n",
        "\r\n",
        "\\end{equation*} \r\n",
        "\r\n",
        "Donde $\\lambda$ no es nada más que nuestra matriz M, remplazamos:\r\n",
        "\r\n",
        "\\begin{equation}\r\n",
        "\r\n",
        "M^{2}= \\begin{bmatrix}\r\n",
        "   a & b \\\\\r\n",
        "   c & d\r\n",
        "   \\end{bmatrix} \\begin{bmatrix}\r\n",
        "   a & b \\\\\r\n",
        "   c & d\r\n",
        "   \\end{bmatrix} = \r\n",
        "   \r\n",
        "   \\begin{bmatrix}\r\n",
        "   a^{2}+bc & ab+bd \\\\\r\n",
        "   ac+dc & cb+d^{2}\r\n",
        "   \\end{bmatrix}\\\\\r\n",
        "\r\n",
        "   \\begin{bmatrix}\r\n",
        "   a^{2}+bc & ab+bd \\\\\r\n",
        "   ac+dc & cb+d^{2}\r\n",
        "   \\end{bmatrix}\r\n",
        "   -\\begin{bmatrix}\r\n",
        "   a & b \\\\\r\n",
        "   c & d\r\n",
        "   \\end{bmatrix}(a+d)+(ad-cb)\\begin{bmatrix}\r\n",
        "   1 & 0 \\\\\r\n",
        "   0 & 1\r\n",
        "   \\end{bmatrix} =0\\\\\r\n",
        "\r\n",
        "\\begin{bmatrix}\r\n",
        "   a^{2}+bc & ab+bd \\\\\r\n",
        "   ac+dc & cb+d^{2}\r\n",
        "   \\end{bmatrix}\r\n",
        "   -\r\n",
        "   \\begin{bmatrix}\r\n",
        "   a^{2}+ad & ab+db \\\\\r\n",
        "   ac+dc & cd+d^{2}\r\n",
        "   \\end{bmatrix}\r\n",
        "+\r\n",
        "\\begin{bmatrix}\r\n",
        "   ad-ad & 0 \\\\\r\n",
        "   0 & ad-cb\r\n",
        "   \\end{bmatrix} = \\\\\r\n",
        "\r\n",
        "   \\begin{bmatrix}\r\n",
        "   -ad+bc & 0 \\\\\r\n",
        "   0 & -ad+bc\r\n",
        "   \\end{bmatrix}\r\n",
        "   +\r\n",
        "   \\begin{bmatrix}\r\n",
        "   ad-bc & 0 \\\\\r\n",
        "   0 & ad-bc\r\n",
        "   \\end{bmatrix} =\r\n",
        "\r\n",
        "   \\begin{bmatrix}\r\n",
        "   0 & 0 \\\\\r\n",
        "   0 & 0\r\n",
        "   \\end{bmatrix}\r\n",
        "\r\n",
        "\r\n",
        "\\end{equation}\r\n"
      ]
    },
    {
      "cell_type": "markdown",
      "metadata": {
        "id": "ncBxvon6yp62"
      },
      "source": [
        "Ahora para hacerlo en python, vamos a usar el desarrollo anterior pero con un caso en específico, donde $det(M) \\neq 0$."
      ]
    },
    {
      "cell_type": "markdown",
      "metadata": {
        "id": "u6iTqwk42oaC"
      },
      "source": [
        "Para ello definiremos la matriz \r\n",
        "\\begin{equation}\r\n",
        "M =\r\n",
        "\\begin{bmatrix}\r\n",
        "   1 & 2 \\\\\r\n",
        "   3 & 4\r\n",
        "   \\end{bmatrix}\r\n",
        "\r\n",
        "\\end{equation}"
      ]
    },
    {
      "cell_type": "code",
      "metadata": {
        "colab": {
          "base_uri": "https://localhost:8080/"
        },
        "id": "QTaNPH8UP8FU",
        "outputId": "5f4a1738-bb53-46e2-a4ca-9a19caf3663c"
      },
      "source": [
        "#Definimos nuestra amtriz M:\r\n",
        "M = np.array([[1,2],[3,4]])\r\n",
        "print(\"Matriz A = \")\r\n",
        "print(M)"
      ],
      "execution_count": 17,
      "outputs": [
        {
          "output_type": "stream",
          "text": [
            "Matriz A = \n",
            "[[1 2]\n",
            " [3 4]]\n"
          ],
          "name": "stdout"
        }
      ]
    },
    {
      "cell_type": "markdown",
      "metadata": {
        "id": "dLn6lOzeWtgU"
      },
      "source": [
        "Vemos si nuestra matriz tiene un determinante distinto de 0.\r\n"
      ]
    },
    {
      "cell_type": "code",
      "metadata": {
        "colab": {
          "base_uri": "https://localhost:8080/"
        },
        "id": "1TBSgywpW2Ql",
        "outputId": "ae5a5870-9f68-4c17-aaab-f52d5e181477"
      },
      "source": [
        "# Determinante de la matriz M\r\n",
        "print(M)\r\n",
        "print(la.det(M))"
      ],
      "execution_count": 31,
      "outputs": [
        {
          "output_type": "stream",
          "text": [
            "[[1 2]\n",
            " [3 4]]\n",
            "-2.0\n"
          ],
          "name": "stdout"
        }
      ]
    },
    {
      "cell_type": "markdown",
      "metadata": {
        "id": "1BgMdVyMXGgY"
      },
      "source": [
        "Como el determinanate es distinto de 0, cumplira este teorema al igual que las demas matrices cuadradas nxn"
      ]
    },
    {
      "cell_type": "markdown",
      "metadata": {
        "id": "VlAF52xxPoXG"
      },
      "source": [
        " \\begin{equation}\r\n",
        " \\det\\begin{bmatrix}\r\n",
        "   1 & 2 \\\\\r\n",
        "   3 & 4\r\n",
        "   \\end{bmatrix}\r\n",
        "   - \\lambda\\begin{bmatrix}\r\n",
        "   1 & 0 \\\\\r\n",
        "   0 & 1\r\n",
        "   \\end{bmatrix} = 0\\\\\r\n",
        "\\end{equation}"
      ]
    },
    {
      "cell_type": "markdown",
      "metadata": {
        "id": "6ZS9VOQWOvUO"
      },
      "source": [
        "Llegamos a la siguiente matriz:\r\n",
        "\r\n",
        " \\begin{equation}\r\n",
        " \\det\\begin{bmatrix}\r\n",
        "   1 -\\lambda& 2 \\\\\r\n",
        "   3 & 4-\\lambda\r\n",
        "   \\end{bmatrix}\r\n",
        "   = 0\\\\\r\n",
        "\\end{equation}\r\n"
      ]
    },
    {
      "cell_type": "markdown",
      "metadata": {
        "id": "w3cd5wVLR8wo"
      },
      "source": [
        "Calculamos el determinante:"
      ]
    },
    {
      "cell_type": "markdown",
      "metadata": {
        "id": "XbjaCVuoSA9y"
      },
      "source": [
        "\\begin{equation}\r\n",
        "\\lambda^{2}-5\\lambda -2I\r\n",
        "\\end{equation}"
      ]
    },
    {
      "cell_type": "markdown",
      "metadata": {
        "id": "FLw1fCvJSm7Y"
      },
      "source": [
        "Resolvemos la ecuación sustituyendo $\\lambda$ por nuestra Matriz M:\r\n"
      ]
    },
    {
      "cell_type": "markdown",
      "metadata": {
        "id": "bnOwwPnRTPFK"
      },
      "source": [
        "\\begin{equation}\r\n",
        "M^{2}-5M -2I\r\n",
        "\\end{equation}"
      ]
    },
    {
      "cell_type": "code",
      "metadata": {
        "id": "Q1bd9fknTj9v"
      },
      "source": [
        ""
      ],
      "execution_count": 28,
      "outputs": []
    },
    {
      "cell_type": "markdown",
      "metadata": {
        "id": "nJO3qbCWTSH1"
      },
      "source": [
        "Remplazamos con nuestra matriz:\r\n",
        "\r\n",
        "\\begin{equation}\r\n",
        "\r\n",
        "\\begin{bmatrix}\r\n",
        "   1 & 2 \\\\\r\n",
        "   3 & 4\r\n",
        "   \\end{bmatrix}\r\n",
        "   \\begin{bmatrix}\r\n",
        "   1 & 2 \\\\\r\n",
        "   3 & 4\r\n",
        "   \\end{bmatrix}\r\n",
        "   -\r\n",
        "   5\\begin{bmatrix}\r\n",
        "   1 & 2 \\\\\r\n",
        "   3 & 4\r\n",
        "   \\end{bmatrix}\r\n",
        "   -\r\n",
        "   2\\begin{bmatrix}\r\n",
        "   1 & 0 \\\\\r\n",
        "   0 & 1\r\n",
        "   \\end{bmatrix}=0\r\n",
        "\r\n",
        "\\end{equation}\r\n"
      ]
    },
    {
      "cell_type": "code",
      "metadata": {
        "id": "Pj3lylcBTlVE"
      },
      "source": [
        "Procedemos a solucionarlo con python:\r\n"
      ],
      "execution_count": null,
      "outputs": []
    },
    {
      "cell_type": "code",
      "metadata": {
        "colab": {
          "base_uri": "https://localhost:8080/"
        },
        "id": "tQC-tZppTocl",
        "outputId": "b3ab44aa-0405-409a-b63e-9adb6a2244f9"
      },
      "source": [
        "R = M@M - 5*M - 2*I\r\n",
        "print(R)"
      ],
      "execution_count": 30,
      "outputs": [
        {
          "output_type": "stream",
          "text": [
            "[[0 0]\n",
            " [0 0]]\n"
          ],
          "name": "stdout"
        }
      ]
    },
    {
      "cell_type": "markdown",
      "metadata": {
        "id": "yBW70gRSUP8D"
      },
      "source": [
        "**Por lo tanto queda demostrado el teorema de Cayley-Hamilton**"
      ]
    },
    {
      "cell_type": "markdown",
      "metadata": {
        "id": "gJi2PxHSa9IF"
      },
      "source": [
        "#Ejercicio 3: Resuelva el sistema de ecuaciones.\r\n",
        "\r\n",
        "\\begin{eqnarray*}\r\n",
        "x - 3 y + z & = & 1 \\\\ \\nonumber\r\n",
        "3 x - 4y + z & = & 5 \\\\ \\nonumber\r\n",
        "2 y - z & = & 0 \\\\ \\nonumber\r\n",
        "\\end{eqnarray*}\r\n",
        "\r\n",
        "de dos formas, utilizando el Método de Eliminación Gaussiana y la utilzando la función scipy.linalg.solve()\r\n"
      ]
    },
    {
      "cell_type": "code",
      "metadata": {
        "id": "8xE5OxMnjaE7"
      },
      "source": [
        "# Implementación del método de eliminación Gaussiana\r\n",
        "# Definimos 3 funciones \r\n",
        "\r\n",
        "# Intercambio de posición de renglones.\r\n",
        "def switch_rows(A,i,j):\r\n",
        "    \"Intercambiar renglones i y j en la matriz A.\"\r\n",
        "    n = A.shape[0]\r\n",
        "    E = np.eye(n)\r\n",
        "    E[i,i] = 0\r\n",
        "    E[j,j] = 0\r\n",
        "    E[i,j] = 1\r\n",
        "    E[j,i] = 1\r\n",
        "    return E @ A\r\n",
        "\r\n",
        "# Multiplicar un renglón por una constante no nula.\r\n",
        "def scale_row(A,k,i):\r\n",
        "    \"Multiplicar el renglón i por k en la matriz A.\"\r\n",
        "    n = A.shape[0]\r\n",
        "    E = np.eye(n)\r\n",
        "    E[i,i] = k\r\n",
        "    return E @ A\r\n",
        "\r\n",
        "# Sumar un múltiplo de un reglon a otro renglón.\r\n",
        "def add_row(A,k,i,j):\r\n",
        "    \"Sumar k veces el renglón j al renglón i en la matriz A.\"\r\n",
        "    n = A.shape[0]\r\n",
        "    E = np.eye(n)\r\n",
        "    if i == j:\r\n",
        "        E[i,i] = k + 1\r\n",
        "    else:\r\n",
        "        E[i,j] = k\r\n",
        "    return E @ A\r\n",
        "\r\n",
        "#Definimos nuestra matriz"
      ],
      "execution_count": 47,
      "outputs": []
    },
    {
      "cell_type": "markdown",
      "metadata": {
        "id": "o0-nVGQ_mhSw"
      },
      "source": [
        "Para ello definiremos la matriz \r\n",
        "\\begin{equation}\r\n",
        "G =\r\n",
        "\\begin{bmatrix}\r\n",
        "   1 & -3 & 1 & 1 \\\\\r\n",
        "   3 & -4 & 1 & 5 \\\\\r\n",
        "   0 & 2 & -1 & 0\r\n",
        "   \\end{bmatrix}\r\n",
        "\r\n",
        "\\end{equation}"
      ]
    },
    {
      "cell_type": "code",
      "metadata": {
        "colab": {
          "base_uri": "https://localhost:8080/"
        },
        "id": "kHICgNZFnqAA",
        "outputId": "d5ff759a-dc44-4777-883b-7e96adf9a9bc"
      },
      "source": [
        "#Definimos nuestra amtriz G:\r\n",
        "G = np.array([[1,-3,1,1],[3,-4,1,5],[0,2,-1,0]])\r\n",
        "print(\"Matriz G = \")\r\n",
        "print(G)"
      ],
      "execution_count": 48,
      "outputs": [
        {
          "output_type": "stream",
          "text": [
            "Matriz G = \n",
            "[[ 1 -3  1  1]\n",
            " [ 3 -4  1  5]\n",
            " [ 0  2 -1  0]]\n"
          ],
          "name": "stdout"
        }
      ]
    },
    {
      "cell_type": "markdown",
      "metadata": {
        "id": "SycNhmLXnkLL"
      },
      "source": [
        "Emepezamos la eliminasion Gaussiana:"
      ]
    },
    {
      "cell_type": "code",
      "metadata": {
        "colab": {
          "base_uri": "https://localhost:8080/"
        },
        "id": "cP2chiD6o1CJ",
        "outputId": "4272bba9-daec-4b34-9a45-82666e6d5ecf"
      },
      "source": [
        "G1 = (scale_row(G,3,0))\r\n",
        "print(scale_row(G,3,0))"
      ],
      "execution_count": 70,
      "outputs": [
        {
          "output_type": "stream",
          "text": [
            "[[ 3. -9.  3.  3.]\n",
            " [ 3. -4.  1.  5.]\n",
            " [ 0.  2. -1.  0.]]\n"
          ],
          "name": "stdout"
        }
      ]
    },
    {
      "cell_type": "code",
      "metadata": {
        "colab": {
          "base_uri": "https://localhost:8080/"
        },
        "id": "z_RvVrZGqvbD",
        "outputId": "6dbd83ef-70d3-46c4-9700-3baf7dccdc9f"
      },
      "source": [
        "G2 = add_row(G1,-1,1,0)\r\n",
        "print(G2)"
      ],
      "execution_count": 72,
      "outputs": [
        {
          "output_type": "stream",
          "text": [
            "[[ 3. -9.  3.  3.]\n",
            " [ 0.  5. -2.  2.]\n",
            " [ 0.  2. -1.  0.]]\n"
          ],
          "name": "stdout"
        }
      ]
    },
    {
      "cell_type": "code",
      "metadata": {
        "colab": {
          "base_uri": "https://localhost:8080/"
        },
        "id": "4tTGxjtxxgYC",
        "outputId": "e9674b5f-e77e-4cbc-8c37-273a5160ba85"
      },
      "source": [
        "G3 = scale_row(G2,2,1)\r\n",
        "G4 = scale_row(G3,5,2)\r\n",
        "print(G4)"
      ],
      "execution_count": 85,
      "outputs": [
        {
          "output_type": "stream",
          "text": [
            "[[ 3. -9.  3.  3.]\n",
            " [ 0. 10. -4.  4.]\n",
            " [ 0. 10. -5.  0.]]\n"
          ],
          "name": "stdout"
        }
      ]
    },
    {
      "cell_type": "code",
      "metadata": {
        "colab": {
          "base_uri": "https://localhost:8080/"
        },
        "id": "-VW4mvXo1E5X",
        "outputId": "2afc8859-6dff-4b46-ee08-47caf4473290"
      },
      "source": [
        "G5 = add_row(G4,-1,2,1)\r\n",
        "print(G5)"
      ],
      "execution_count": 86,
      "outputs": [
        {
          "output_type": "stream",
          "text": [
            "[[ 3. -9.  3.  3.]\n",
            " [ 0. 10. -4.  4.]\n",
            " [ 0.  0. -1. -4.]]\n"
          ],
          "name": "stdout"
        }
      ]
    },
    {
      "cell_type": "code",
      "metadata": {
        "id": "ObriWrMj2mTd"
      },
      "source": [
        "#Resolvemos las ecuaciones a las que llegamos:\r\n"
      ],
      "execution_count": null,
      "outputs": []
    },
    {
      "cell_type": "markdown",
      "metadata": {
        "id": "oCrMScOC36EI"
      },
      "source": [
        "\\begin{equation}\r\n",
        " Z=4\\\\\r\n",
        "\\end{equation}"
      ]
    },
    {
      "cell_type": "code",
      "metadata": {
        "id": "Q4FMKUto5j8n"
      },
      "source": [
        "Remplazamos en la ecuación 2 y obtenemos y:"
      ],
      "execution_count": null,
      "outputs": []
    },
    {
      "cell_type": "markdown",
      "metadata": {
        "id": "qD1-wNV95c65"
      },
      "source": [
        "\\begin{equation}\r\n",
        "\r\n",
        " 10y -4z = 4\\\\\r\n",
        "\r\n",
        " 10y = 4(4)+4\\\\\r\n",
        "\r\n",
        " y = 20/10\\\\\r\n",
        "\r\n",
        " Y = 2\\\\\r\n",
        " \r\n",
        "\\end{equation}"
      ]
    },
    {
      "cell_type": "markdown",
      "metadata": {
        "id": "tK7QnuTv5qRy"
      },
      "source": [
        "Remplazamos Y y Z en la ecuación para obtener "
      ]
    },
    {
      "cell_type": "markdown",
      "metadata": {
        "id": "Mk17qObn8Lx-"
      },
      "source": [
        "\\begin{equation}\r\n",
        "\r\n",
        " 3x - 9y +3z = 3\\\\\r\n",
        "\r\n",
        "3x = 9(2)-3(4)+3\\\\\r\n",
        "\r\n",
        "x = 9/3\\\\\r\n",
        "\r\n",
        "X=3\r\n",
        " \r\n",
        "\r\n",
        "\\end{equation}"
      ]
    },
    {
      "cell_type": "markdown",
      "metadata": {
        "id": "01_XADud8j7P"
      },
      "source": [
        "Llegamos a que la solución a nuestra ecuación es:\r\n",
        "\\begin{equation}\r\n",
        "\r\n",
        " X = 3 , Y= 2 , Z  = 4\r\n",
        " \r\n",
        "\\end{equation}"
      ]
    },
    {
      "cell_type": "markdown",
      "metadata": {
        "id": "ksf0_FnHBMet"
      },
      "source": [
        "**Ahora resolveremos el sistema utilzando la función scipy.linalg.solve()**"
      ]
    },
    {
      "cell_type": "code",
      "metadata": {
        "colab": {
          "base_uri": "https://localhost:8080/"
        },
        "id": "HgzCwQhWBxNA",
        "outputId": "02a67e3a-c480-4bff-daf7-b37a6de9f7bd"
      },
      "source": [
        "# definimos b. Recordemos que tenemos que usar la función .reshape()\r\n",
        "b = np.array([1,5,0]).reshape(3,1)\r\n",
        "print(b)"
      ],
      "execution_count": 88,
      "outputs": [
        {
          "output_type": "stream",
          "text": [
            "[[1]\n",
            " [5]\n",
            " [0]]\n"
          ],
          "name": "stdout"
        }
      ]
    },
    {
      "cell_type": "code",
      "metadata": {
        "colab": {
          "base_uri": "https://localhost:8080/"
        },
        "id": "0hNvU59dCVY8",
        "outputId": "07288951-5a3a-4595-bb45-42f3065e634a"
      },
      "source": [
        "#Definimos la matriz que vamos a utilizar:\r\n",
        "#Definimos nuestra amtriz G:\r\n",
        "X = np.array([[1,-3,1],[3,-4,1],[0,2,-1]])\r\n",
        "print(\"Matriz X = \")\r\n",
        "print(X)"
      ],
      "execution_count": 92,
      "outputs": [
        {
          "output_type": "stream",
          "text": [
            "Matriz X = \n",
            "[[ 1 -3  1]\n",
            " [ 3 -4  1]\n",
            " [ 0  2 -1]]\n"
          ],
          "name": "stdout"
        }
      ]
    },
    {
      "cell_type": "code",
      "metadata": {
        "colab": {
          "base_uri": "https://localhost:8080/"
        },
        "id": "CDyOYBj_CLxn",
        "outputId": "944c31de-705b-4e59-ff1f-063a76047a25"
      },
      "source": [
        "# Resolviendo el sistema de ecuaciones usando scipy.linalg.solve\r\n",
        "x_sol = la.solve(X, b)\r\n",
        "print(x_sol)\r\n"
      ],
      "execution_count": 93,
      "outputs": [
        {
          "output_type": "stream",
          "text": [
            "[[3.]\n",
            " [2.]\n",
            " [4.]]\n"
          ],
          "name": "stdout"
        }
      ]
    },
    {
      "cell_type": "markdown",
      "metadata": {
        "id": "7RZsDY5vCrUO"
      },
      "source": [
        "**Como podemos ver, llegamos al mismo resultado que el anterior**"
      ]
    },
    {
      "cell_type": "markdown",
      "metadata": {
        "id": "eyVUNKPCbZHQ"
      },
      "source": [
        "#Ejercicio 4: Dadas las siguientes matrices $B_1, B_2$ y $B_3$\r\n",
        "\r\n",
        "(Ejemplos del artículo de Wikipedia sobre [Eigenvalores y Eigenvectores](https://en.wikipedia.org/wiki/Eigenvalues_and_eigenvectors#Matrix_examples)) \r\n",
        "\r\n",
        "\r\n",
        "\\begin{equation*}\r\n",
        "B_1 = \\begin{bmatrix}\r\n",
        "2 & 0 & 0 \\\\\r\n",
        "0 & 3 & 4 \\\\\r\n",
        "0 & 4 & 9 \\\\\r\n",
        "\\end{bmatrix}\r\n",
        "\\end{equation*}\r\n",
        "\r\n",
        "\\begin{equation*}\r\n",
        "B_2 = \\begin{bmatrix}\r\n",
        "0 & 1 & 0 \\\\\r\n",
        "0 & 0 & 1 \\\\\r\n",
        "1 & 0 & 0 \\\\\r\n",
        "\\end{bmatrix}\r\n",
        "\\end{equation*}\r\n",
        "\r\n",
        "\\begin{equation*}\r\n",
        "B_3 = \\begin{bmatrix}\r\n",
        "2 & 0 & 0 & 0\\\\\r\n",
        "1 & 2 & 0 & 0 \\\\\r\n",
        "0 & 1 & 3 & 0 \\\\\r\n",
        "0 & 0 & 1 & 3 \\\\\r\n",
        "\\end{bmatrix}\r\n",
        "\\end{equation*}\r\n",
        "\r\n",
        "Encuentra los eigenvalores y eigenvectores de cada matriz utilizando la función de *scipy.linalg.eig()*, y contrasta tus resultados en cada caso con los que se desarrollan en los ejemplos de la Wikipedia. "
      ]
    },
    {
      "cell_type": "markdown",
      "metadata": {
        "id": "ivDS1QqLcD6g"
      },
      "source": [
        "Definimos las matrices:\r\n"
      ]
    },
    {
      "cell_type": "code",
      "metadata": {
        "colab": {
          "base_uri": "https://localhost:8080/"
        },
        "id": "hFyhk_bUbgfk",
        "outputId": "0c804a76-e0b3-4b64-e77a-2af3cacf662c"
      },
      "source": [
        "#Definimos nuestra amtriz B1:\r\n",
        "B1 = np.array([[2,0,0],[0,3,4],[0,4,9]])\r\n",
        "print(\"Matriz B1 = \")\r\n",
        "print(B1)"
      ],
      "execution_count": 95,
      "outputs": [
        {
          "output_type": "stream",
          "text": [
            "Matriz B1 = \n",
            "[[2 0 0]\n",
            " [0 3 4]\n",
            " [0 4 9]]\n"
          ],
          "name": "stdout"
        }
      ]
    },
    {
      "cell_type": "code",
      "metadata": {
        "colab": {
          "base_uri": "https://localhost:8080/"
        },
        "id": "9WWRyNYxcepX",
        "outputId": "b3596fa2-c577-4cd1-d988-ba065ec8ebc3"
      },
      "source": [
        "#Definimos nuestra amtriz B2:\r\n",
        "B2 = np.array([[0,1,0],[0,0,1],[1,0,0]])\r\n",
        "print(\"Matriz B2 = \")\r\n",
        "print(B2)"
      ],
      "execution_count": 96,
      "outputs": [
        {
          "output_type": "stream",
          "text": [
            "Matriz B2 = \n",
            "[[0 1 0]\n",
            " [0 0 1]\n",
            " [1 0 0]]\n"
          ],
          "name": "stdout"
        }
      ]
    },
    {
      "cell_type": "code",
      "metadata": {
        "colab": {
          "base_uri": "https://localhost:8080/"
        },
        "id": "0sahfCtBcqGb",
        "outputId": "3cba99b5-af75-4c37-8bdb-a378c6a118d7"
      },
      "source": [
        "#Definimos nuestra amtriz B3:\r\n",
        "B3 = np.array([[2,0,0,0],[1,2,0,0],[0,1,3,0],[0,0,1,3]])\r\n",
        "print(\"Matriz B3 = \")\r\n",
        "print(B3)"
      ],
      "execution_count": 97,
      "outputs": [
        {
          "output_type": "stream",
          "text": [
            "Matriz B3 = \n",
            "[[2 0 0 0]\n",
            " [1 2 0 0]\n",
            " [0 1 3 0]\n",
            " [0 0 1 3]]\n"
          ],
          "name": "stdout"
        }
      ]
    },
    {
      "cell_type": "code",
      "metadata": {
        "colab": {
          "base_uri": "https://localhost:8080/"
        },
        "id": "4OrJKsatZh1T",
        "outputId": "042e9966-c18a-4bbe-cff2-5ca9e908ffd2"
      },
      "source": [
        "# Aplicamos la biblioteca scipy.linalg.eig()\r\n",
        "eigvals, eigvecs = la.eig(B1)\r\n",
        "print('Eigenvalores:', eigvals)\r\n",
        "print('Eigenvectores:', eigvecs)"
      ],
      "execution_count": 98,
      "outputs": [
        {
          "output_type": "stream",
          "text": [
            "Eigenvalores: [11.+0.j  1.+0.j  2.+0.j]\n",
            "Eigenvectores: [[ 0.          0.          1.        ]\n",
            " [ 0.4472136   0.89442719  0.        ]\n",
            " [ 0.89442719 -0.4472136   0.        ]]\n"
          ],
          "name": "stdout"
        }
      ]
    },
    {
      "cell_type": "code",
      "metadata": {
        "colab": {
          "base_uri": "https://localhost:8080/"
        },
        "id": "P-roOlfxfTKv",
        "outputId": "43d136eb-6e79-4617-9ca7-37e8c2535a82"
      },
      "source": [
        "# Ahora vamos con B2\r\n",
        "eigvals, eigvecs = la.eig(B2)\r\n",
        "print('Eigenvalores:', eigvals)\r\n",
        "print('Eigenvectores:', eigvecs)"
      ],
      "execution_count": 99,
      "outputs": [
        {
          "output_type": "stream",
          "text": [
            "Eigenvalores: [-0.5+0.8660254j -0.5-0.8660254j  1. +0.j       ]\n",
            "Eigenvectores: [[ 0.57735027+0.j   0.57735027-0.j  -0.57735027+0.j ]\n",
            " [-0.28867513+0.5j -0.28867513-0.5j -0.57735027+0.j ]\n",
            " [-0.28867513-0.5j -0.28867513+0.5j -0.57735027+0.j ]]\n"
          ],
          "name": "stdout"
        }
      ]
    },
    {
      "cell_type": "code",
      "metadata": {
        "colab": {
          "base_uri": "https://localhost:8080/"
        },
        "id": "wEQvI6Qqf-U3",
        "outputId": "0a49ea0f-239d-4758-cfa1-88f5af6faafc"
      },
      "source": [
        "# Ahora vamos con B3\r\n",
        "eigvals, eigvecs = la.eig(B3)\r\n",
        "print('Eigenvalores:', eigvals)\r\n",
        "print('Eigenvectores:', eigvecs)"
      ],
      "execution_count": 101,
      "outputs": [
        {
          "output_type": "stream",
          "text": [
            "Eigenvalores: [3.+0.j 3.+0.j 2.+0.j 2.+0.j]\n",
            "Eigenvectores: [[ 0.00000000e+00  0.00000000e+00  0.00000000e+00  2.56395025e-16]\n",
            " [ 0.00000000e+00  0.00000000e+00  5.77350269e-01 -5.77350269e-01]\n",
            " [ 0.00000000e+00  6.66133815e-16 -5.77350269e-01  5.77350269e-01]\n",
            " [ 1.00000000e+00 -1.00000000e+00  5.77350269e-01 -5.77350269e-01]]\n"
          ],
          "name": "stdout"
        }
      ]
    },
    {
      "cell_type": "markdown",
      "metadata": {
        "id": "vMMi16VTJYUt"
      },
      "source": [
        "#Ejercicio 5: Se tienen los siguientes 8 puntos: \r\n",
        "\r\n",
        "\\begin{eqnarray*} \r\n",
        "(x&,&y) \\\\\r\n",
        "(0.0 &,& 0.0), \\\\ \r\n",
        "(0.5 &,& 0.47942), \\\\ \r\n",
        "(1.0 &,& 0.84147), \\\\\r\n",
        "(1.5 &,& 0.99749), \\\\\r\n",
        "(2.0 &,& 0.90930), \\\\\r\n",
        "(2.5 &,& 0.59847), \\\\\r\n",
        "(3.0 &,& 0.14112), \\\\\r\n",
        "(3.5 &,& -0.35078) \\\\\r\n",
        "\\end{eqnarray*}\r\n",
        "\r\n",
        "Encuentre un polinomio interpolante $p(x)$ que pase por los 8 puntos. \r\n",
        "\r\n",
        "Sobreponga la función $y=\\sin(x)$ y contrástela con el polinomio $p(x)$.\r\n"
      ]
    },
    {
      "cell_type": "code",
      "metadata": {
        "colab": {
          "base_uri": "https://localhost:8080/",
          "height": 295
        },
        "id": "JKz0lXNBLRHv",
        "outputId": "81a2b975-8c7f-43bc-fece-ff2e273b3dfc"
      },
      "source": [
        "#Ahora graficamos nuestros datos:\r\n",
        "# graficamos los puntos en rojo con puntos ('r.')\r\n",
        "N = 8\r\n",
        "x = np.arange(0,4)\r\n",
        "y = np.arange(-0.5,1)\r\n",
        "plt.plot(0,0,'r.')\r\n",
        "plt.plot(0.5,0.47942,'r.')\r\n",
        "plt.plot(1,0.84147,'r.')\r\n",
        "plt.plot(1.5,0.99749,'r.')\r\n",
        "plt.plot(2,0.90930,'r.')\r\n",
        "plt.plot(2.5,0.59847,'r.')\r\n",
        "plt.plot(3,0.14112,'r.')\r\n",
        "plt.plot(3.5,-0.35078,'r.')\r\n",
        "plt.grid()\r\n",
        "plt.title('Puntos aleatorios que deseamos interpolar')\r\n",
        "plt.xlabel('x')\r\n",
        "plt.ylabel('y')\r\n",
        "plt.show()"
      ],
      "execution_count": 29,
      "outputs": [
        {
          "output_type": "display_data",
          "data": {
            "image/png": "[encoded data removed]",
            "text/plain": [
              "<Figure size 432x288 with 1 Axes>"
            ]
          },
          "metadata": {
            "tags": [],
            "needs_background": "light"
          }
        }
      ]
    },
    {
      "cell_type": "code",
      "metadata": {
        "colab": {
          "base_uri": "https://localhost:8080/"
        },
        "id": "zEngC9tKwnKt",
        "outputId": "662739b6-48f1-45cf-c5e8-1f8f68740fea"
      },
      "source": [
        "# Matriz de Vandermonde X para una parábola que pasa por x=0,3,8\r\n",
        "x = np.array([0,0.5,1,1.5,2,2.5,3,3.5])\r\n",
        "X = np.column_stack([[1,1,1,1,1,1,1,1],x,x**2,x**3,x**4,x**5,x**6,x**7])\r\n",
        "print(X)"
      ],
      "execution_count": 252,
      "outputs": [
        {
          "output_type": "stream",
          "text": [
            "[[1.00000000e+00 0.00000000e+00 0.00000000e+00 0.00000000e+00\n",
            "  0.00000000e+00 0.00000000e+00 0.00000000e+00 0.00000000e+00]\n",
            " [1.00000000e+00 5.00000000e-01 2.50000000e-01 1.25000000e-01\n",
            "  6.25000000e-02 3.12500000e-02 1.56250000e-02 7.81250000e-03]\n",
            " [1.00000000e+00 1.00000000e+00 1.00000000e+00 1.00000000e+00\n",
            "  1.00000000e+00 1.00000000e+00 1.00000000e+00 1.00000000e+00]\n",
            " [1.00000000e+00 1.50000000e+00 2.25000000e+00 3.37500000e+00\n",
            "  5.06250000e+00 7.59375000e+00 1.13906250e+01 1.70859375e+01]\n",
            " [1.00000000e+00 2.00000000e+00 4.00000000e+00 8.00000000e+00\n",
            "  1.60000000e+01 3.20000000e+01 6.40000000e+01 1.28000000e+02]\n",
            " [1.00000000e+00 2.50000000e+00 6.25000000e+00 1.56250000e+01\n",
            "  3.90625000e+01 9.76562500e+01 2.44140625e+02 6.10351562e+02]\n",
            " [1.00000000e+00 3.00000000e+00 9.00000000e+00 2.70000000e+01\n",
            "  8.10000000e+01 2.43000000e+02 7.29000000e+02 2.18700000e+03]\n",
            " [1.00000000e+00 3.50000000e+00 1.22500000e+01 4.28750000e+01\n",
            "  1.50062500e+02 5.25218750e+02 1.83826562e+03 6.43392969e+03]]\n"
          ],
          "name": "stdout"
        }
      ]
    },
    {
      "cell_type": "code",
      "metadata": {
        "colab": {
          "base_uri": "https://localhost:8080/"
        },
        "id": "4uH9ikmRw3mF",
        "outputId": "c3310e09-72f8-43e6-ce0e-0a53132184ea"
      },
      "source": [
        "# El vector y que pasa por y=6,1,2\r\n",
        "y = np.array([0,0.47942,0.84147,0.99749,0.90930,0.59847,0.14112,-0.35078]).reshape(8,1)\r\n",
        "print(y)"
      ],
      "execution_count": 253,
      "outputs": [
        {
          "output_type": "stream",
          "text": [
            "[[ 0.     ]\n",
            " [ 0.47942]\n",
            " [ 0.84147]\n",
            " [ 0.99749]\n",
            " [ 0.9093 ]\n",
            " [ 0.59847]\n",
            " [ 0.14112]\n",
            " [-0.35078]]\n"
          ],
          "name": "stdout"
        }
      ]
    },
    {
      "cell_type": "code",
      "metadata": {
        "colab": {
          "base_uri": "https://localhost:8080/"
        },
        "id": "c8KKiu2DxGhl",
        "outputId": "4a14b7f4-7287-47ca-f381-d6f8dd85344b"
      },
      "source": [
        "# Resolvemos la ecuación Xa = y, para los coeficientes desconocidos a\r\n",
        "# Usamos la función scipy.linalg.solve()\r\n",
        "a = la.solve(X,y)\r\n",
        "print(a)"
      ],
      "execution_count": 254,
      "outputs": [
        {
          "output_type": "stream",
          "text": [
            "[[ 0.00000000e+00]\n",
            " [ 1.00067181e+00]\n",
            " [-3.70788889e-03]\n",
            " [-1.58867889e-01]\n",
            " [-8.30222222e-03]\n",
            " [ 1.31964444e-02]\n",
            " [-1.54488889e-03]\n",
            " [ 2.46349206e-05]]\n"
          ],
          "name": "stdout"
        }
      ]
    },
    {
      "cell_type": "code",
      "metadata": {
        "colab": {
          "base_uri": "https://localhost:8080/",
          "height": 295
        },
        "id": "_2o6FKMFybSV",
        "outputId": "491dd2b1-68d7-4312-a845-ff51f743fe34"
      },
      "source": [
        "# Graficamos los resultados del polinomio interpolante de coeficientes a[0], a[1], y a[2]\r\n",
        "# Sobreponemos en la gráfica los puntos conocidos en azul con puntos ('b.')\r\n",
        "xs = np.linspace(0,7,20)\r\n",
        "ys = a[0] + a[1]*xs + a[2]*xs**2 + a[3]*xs**4 + a[4]*xs**5 + a[4]*xs**6 + a[4]*xs**7 + a[4]*xs**8\r\n",
        "plt.plot(xs,ys,x,y,'b.',ms=20)\r\n",
        "plt.grid()\r\n",
        "plt.title('Polinomio interpolante p(x)')\r\n",
        "plt.xlabel('x')\r\n",
        "plt.ylabel('y')\r\n",
        "plt.show()"
      ],
      "execution_count": 307,
      "outputs": [
        {
          "output_type": "display_data",
          "data": {
            "image/png": "[encoded data removed]",
            "text/plain": [
              "<Figure size 432x288 with 1 Axes>"
            ]
          },
          "metadata": {
            "tags": [],
            "needs_background": "light"
          }
        }
      ]
    },
    {
      "cell_type": "markdown",
      "metadata": {
        "id": "AnjEIL3V2wX5"
      },
      "source": [
        "#Ejercicio 6. \r\n",
        "Regrese a su modelo de análisis de series de tiempo. Haga una descomposición de su serie de tiempo de las temperaturas (Tmax y Tmin), y realice una regresión lineal sobre la serie de Tendencia de Temp $(T = a_0 + a_1 t)$. Encuentre si la pendiente es positiva o negativa de la tendencia (signo de $a_1$), es decir si las Temperaturas (Tmax, Tmin) están subiendo o bajando en el periodo analizado.\r\n",
        "\r\n",
        "**NOTA:** Pueden trabajar en sus Notebooks de la Actividad 5 o 6 y hacer el ajuste de regresión lineal allá donde tienen todo cargado en la memoria y luego copiar unas celdas de texto de esa Notebook y agregarlas al final de su Notebook de la Actividad 7. Así no tienen que cargar a la memoria todas las operaciones."
      ]
    },
    {
      "cell_type": "code",
      "metadata": {
        "colab": {
          "base_uri": "https://localhost:8080/",
          "height": 295
        },
        "id": "OzKRcTaI4GtI",
        "outputId": "b70cbcd3-5c08-4a84-ff26-222b203a575e"
      },
      "source": [
        "# Vamos a hacer una regresión lineal con nuestros datos de temperatura\r\n",
        "# Coeficientes de la recta\r\n",
        "a0 = 5\r\n",
        "a1 = 10\r\n",
        "# Número de puntos entre (10,40)\r\n",
        "N = 100\r\n",
        "x = np.random.rand(100)\r\n",
        "# Ruido gaussiano\r\n",
        "noise = 0.2*np.random.randn(100)\r\n",
        "# Agregamos el ruido a la recta\r\n",
        "y = a0 + a1*x + noise\r\n",
        "\r\n",
        "plt.scatter(x,y);\r\n",
        "plt.grid()\r\n",
        "plt.title('Datos de temperatura')\r\n",
        "plt.xlabel('x')\r\n",
        "plt.ylabel('y')\r\n",
        "plt.show()"
      ],
      "execution_count": 317,
      "outputs": [
        {
          "output_type": "display_data",
          "data": {
            "image/png": "[encoded data removed]",
            "text/plain": [
              "<Figure size 432x288 with 1 Axes>"
            ]
          },
          "metadata": {
            "tags": [],
            "needs_background": "light"
          }
        }
      ]
    },
    {
      "cell_type": "code",
      "metadata": {
        "colab": {
          "base_uri": "https://localhost:8080/"
        },
        "id": "_dIv3MY04HyH",
        "outputId": "af58886e-e86d-4a62-e31d-fb2aa34add87"
      },
      "source": [
        "# Creamos la matriz X, con 1's en la primera columna y los puntos x_k en la segunda.\r\n",
        "X = np.column_stack([np.ones(N),x])\r\n",
        "print('Shape:', X.shape)\r\n",
        "# Imprimimos los primeros 5 renglones para verificar\r\n",
        "print(X[:5,:])"
      ],
      "execution_count": 318,
      "outputs": [
        {
          "output_type": "stream",
          "text": [
            "Shape: (100, 2)\n",
            "[[1.         0.67371981]\n",
            " [1.         0.21447102]\n",
            " [1.         0.9110587 ]\n",
            " [1.         0.91990448]\n",
            " [1.         0.74223895]]\n"
          ],
          "name": "stdout"
        }
      ]
    },
    {
      "cell_type": "code",
      "metadata": {
        "colab": {
          "base_uri": "https://localhost:8080/"
        },
        "id": "WI6svd2a4M-0",
        "outputId": "994ec823-a4bf-4627-df67-e3460a6ba5ad"
      },
      "source": [
        "# Usamos la función scipy.linalg.solve() para resolver la ecuación X.T@X@a = X.T@y respecto a 'a'\r\n",
        "a = la.solve(X.T @ X, X.T @ y)\r\n",
        "print(a)\r\n"
      ],
      "execution_count": 319,
      "outputs": [
        {
          "output_type": "stream",
          "text": [
            "[ 4.98263055 10.01337884]\n"
          ],
          "name": "stdout"
        }
      ]
    },
    {
      "cell_type": "code",
      "metadata": {
        "colab": {
          "base_uri": "https://localhost:8080/",
          "height": 295
        },
        "id": "ZVCcewu24O9Q",
        "outputId": "ec4148bb-4197-4c60-a80c-465ed6f7993a"
      },
      "source": [
        "xs = np.linspace(0,1,10)\r\n",
        "ys = a[0] + a[1]*xs\r\n",
        "plt.plot(xs,ys,'r',linewidth=4)\r\n",
        "plt.scatter(x,y);\r\n",
        "plt.grid()\r\n",
        "plt.title('Ajuste mediante Regresión Lineal de los datos')\r\n",
        "plt.xlabel('x')\r\n",
        "plt.ylabel('y')\r\n",
        "plt.show()"
      ],
      "execution_count": 320,
      "outputs": [
        {
          "output_type": "display_data",
          "data": {
            "image/png": "[encoded data removed]",
            "text/plain": [
              "<Figure size 432x288 with 1 Axes>"
            ]
          },
          "metadata": {
            "tags": [],
            "needs_background": "light"
          }
        }
      ]
    },
    {
      "cell_type": "code",
      "metadata": {
        "colab": {
          "base_uri": "https://localhost:8080/",
          "height": 295
        },
        "id": "mGwNg9EN4RTt",
        "outputId": "e92962e4-9933-4411-ef41-d26377917038"
      },
      "source": [
        "# Los coeficientes para gererar los datos\r\n",
        "a0 = 1\r\n",
        "a1 = 3\r\n",
        "a2 = 7\r\n",
        "# Generaremos 1000 datos aleatorios entre (10,40)\r\n",
        "N = 1000\r\n",
        "x = 2*np.random.rand(N) - 1 # Distribuimos los datos entre (-1,1)\r\n",
        "# Ruido gaussiano\r\n",
        "noise = np.random.randn(N)\r\n",
        "# Una parábola con ruido\r\n",
        "y = a0 + a1*x + a2*x**2 + noise\r\n",
        "plt.scatter(x,y,alpha=0.5,lw=0);\r\n",
        "plt.grid()\r\n",
        "plt.title('Colección de datos aleatorios')\r\n",
        "plt.xlabel('x')\r\n",
        "plt.ylabel('y')\r\n",
        "plt.show()"
      ],
      "execution_count": 322,
      "outputs": [
        {
          "output_type": "display_data",
          "data": {
            "image/png": "[encoded data removed]",
            "text/plain": [
              "<Figure size 432x288 with 1 Axes>"
            ]
          },
          "metadata": {
            "tags": [],
            "needs_background": "light"
          }
        }
      ]
    },
    {
      "cell_type": "code",
      "metadata": {
        "colab": {
          "base_uri": "https://localhost:8080/"
        },
        "id": "pFgWvsNo4TvD",
        "outputId": "e9c8d2e1-1653-4f5c-a497-6d0585b12127"
      },
      "source": [
        "# Construimos la matriz de Vandermonde\r\n",
        "X = np.column_stack([np.ones(N),x,x**2])\r\n",
        "print('Shape:', X.shape)\r\n",
        "# Imprimimos los primeros 5 renglones para verificar\r\n",
        "print(X[:5,:])\r\n"
      ],
      "execution_count": 323,
      "outputs": [
        {
          "output_type": "stream",
          "text": [
            "Shape: (1000, 3)\n",
            "[[ 1.          0.58214362  0.33889119]\n",
            " [ 1.          0.39233926  0.1539301 ]\n",
            " [ 1.          0.0795405   0.00632669]\n",
            " [ 1.          0.48883887  0.23896344]\n",
            " [ 1.         -0.36417302  0.13262199]]\n"
          ],
          "name": "stdout"
        }
      ]
    },
    {
      "cell_type": "code",
      "metadata": {
        "colab": {
          "base_uri": "https://localhost:8080/"
        },
        "id": "qHOY10Ty4VUT",
        "outputId": "8417444c-0556-4c01-e49a-f057bbae68bd"
      },
      "source": [
        "# Usamos la función scipy.linalg.solve() para resolver la ecuación X.T@X@a = X.T@y respecto a 'a'\r\n",
        "a = la.solve(X.T @ X, X.T @ y)\r\n",
        "print(a)"
      ],
      "execution_count": 324,
      "outputs": [
        {
          "output_type": "stream",
          "text": [
            "[1.03430605 2.9835875  7.06321763]\n"
          ],
          "name": "stdout"
        }
      ]
    },
    {
      "cell_type": "code",
      "metadata": {
        "colab": {
          "base_uri": "https://localhost:8080/",
          "height": 295
        },
        "id": "bddLELnG4XId",
        "outputId": "073726ba-5051-489f-c356-c39a49d1de0d"
      },
      "source": [
        "xs = np.linspace(-1,1,5)\r\n",
        "ys = a[0] + a[1]*xs + a[2]*xs**2\r\n",
        "plt.plot(xs,ys,'r',linewidth=4)\r\n",
        "plt.scatter(x,y,alpha=0.5,lw=0)\r\n",
        "plt.grid()\r\n",
        "plt.title('Ajuste mediante Regresión Cuadrática para nuestras temperaturas')\r\n",
        "plt.xlabel('x')\r\n",
        "plt.ylabel('y')\r\n",
        "plt.show()"
      ],
      "execution_count": 333,
      "outputs": [
        {
          "output_type": "display_data",
          "data": {
            "image/png": "[encoded data removed]",
            "text/plain": [
              "<Figure size 432x288 with 1 Axes>"
            ]
          },
          "metadata": {
            "tags": [],
            "needs_background": "light"
          }
        }
      ]
    },
    {
      "cell_type": "markdown",
      "metadata": {
        "id": "Py013wwS5qeJ"
      },
      "source": [
        "**Podemos dar por concluida nuestra actividad**"
      ]
    }
  ]
}